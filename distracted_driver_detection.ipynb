{
 "cells": [
  {
   "cell_type": "markdown",
   "metadata": {
    "collapsed": true
   },
   "source": [
    "# 侦测走神司机\n",
    "\n",
    "在此项目中，你将对 [数据集](https://www.kaggle.com/c/state-farm-distracted-driver-detection) 中的驾驶员状态图片进行分类。该数据集包含驾驶员十种状态下的图片。你需要预处理这些图片，然后用所有样本训练一个卷积神经网络。图片需要标准化（normalized），标签需要采用 one-hot 编码。你需要应用所学的知识构建卷积的、最大池化（max pooling）、丢弃（dropout）和完全连接（fully connected）的层。最后，你需要在样本图片上看到神经网络的预测结果。"
   ]
  },
  {
   "cell_type": "markdown",
   "metadata": {
    "collapsed": true
   },
   "source": [
    "## 获取图片\n",
    "\n",
    "请运行以下单元，以下载 [数据集](https://www.kaggle.com/c/state-farm-distracted-driver-detection/)。将下载后的ZIP格式数据集解压到对应的目录"
   ]
  },
  {
   "cell_type": "code",
   "execution_count": 2,
   "metadata": {},
   "outputs": [
    {
     "name": "stdout",
     "output_type": "stream",
     "text": [
      "E:\\pythonProject\\machineLearningProgress\\distracted_driver_detection\n",
      "所有原始文件已存在\n"
     ]
    }
   ],
   "source": [
    "from urllib.request import urlretrieve \n",
    "from os.path import isfile, isdir \n",
    "from tqdm import tqdm \n",
    "import zipfile \n",
    "import csv\n",
    "import os\n",
    "import math  \n",
    "import numpy as np  \n",
    "import tensorflow as tf  \n",
    "import matplotlib.pyplot as plt     \n",
    "from PIL import Image\n",
    "from sklearn.model_selection import KFold\n",
    "\n",
    "\n",
    "cwd = os.getcwd()\n",
    "print (cwd)\n",
    "\n",
    "#图片CSV列表的数据 \n",
    "DRIVER_IMGS_LIST_CVS_DATE_FILE = \"distracted_driver_detection_dataset/driver_imgs_list.csv\"\n",
    "#图片的数据目录 \n",
    "DRIVER_IMGES_DATASET_FOLDER_PATH = 'distracted_driver_detection_dataset/imgs'\n",
    "#图片的ZIP位置 \n",
    "DRIVER_IMGES_DATASET_LOCATION = 'distracted_driver_detection_dataset/imgs.zip'\n",
    "#图片训练集目录\n",
    "TRAIN_DIR = DRIVER_IMGES_DATASET_FOLDER_PATH+'/train' \n",
    "#图片测试集目录\n",
    "TEST_DIR = DRIVER_IMGES_DATASET_FOLDER_PATH+'/test' \n",
    "#训练好的模型位置\n",
    "SAVE_MODEL_PATH = './saved_model/model.ckpt'\n",
    "\n",
    "\n",
    "csv_file = csv.reader(open(DRIVER_IMGS_LIST_CVS_DATE_FILE,'r'))\n",
    "\n",
    "if isfile(DRIVER_IMGES_DATASET_LOCATION): \n",
    "    zip_path = DRIVER_IMGES_DATASET_LOCATION \n",
    "else: \n",
    "    zip_path = 'imgs.zip'\n",
    "\n",
    "        \n",
    "if not isfile(zip_path): \n",
    "    with DLProgress(unit='B', unit_scale=True, miniters=1, desc='Dataset') as pbar:\n",
    "        urlretrieve( 'https://www.kaggle.com/c/state-farm-distracted-driver-detection/data/imgs.zip', \n",
    "                    zip_path, \n",
    "                    pbar.hook)\n",
    "        \n",
    "#查看数据集imgs.zip是否已存在,解压到对应目录 \n",
    "if not isdir(DRIVER_IMGES_DATASET_FOLDER_PATH): \n",
    "    with zipfile.ZipFile(zip_path) as zin: \n",
    "        zin.extractall(DRIVER_IMGES_DATASET_FOLDER_PATH) \n",
    "        zin.close()\n",
    "        \n",
    "print(\"所有原始文件已存在\")"
   ]
  },
  {
   "cell_type": "markdown",
   "metadata": {
    "collapsed": true
   },
   "source": [
    "## 对图片进行数据处理\n",
    "\n",
    "请运行以下单元，将从文件夹中读取所有的图片列表制作数据集"
   ]
  },
  {
   "cell_type": "code",
   "execution_count": 11,
   "metadata": {
    "collapsed": true
   },
   "outputs": [],
   "source": [
    "#读取CVS数据生成驾驶员信息、图片路径和标签的LIST \n",
    "def read_cvs_files(csv_file_path):    \n",
    "    reade_csv_file = csv.reader(open(csv_file_path,'r'))\n",
    "    driver_list = []\n",
    "    image_list = [] \n",
    "    label_list = []\n",
    "    for index,row in enumerate(reade_csv_file):\n",
    "        if index > 0:\n",
    "            driver_list.append(int(row[0].replace('p','')))\n",
    "            label_list.append(int(row[1].replace('c','')))\n",
    "            image_list.append(DRIVER_IMGES_DATASET_FOLDER_PATH+\"/train/\"+row[1]+\"/\"+row[2])\n",
    "    return driver_list,image_list,label_list\n",
    "    \n",
    "get_driver_list,get_image_list,get_label_list = read_cvs_files(DRIVER_IMGS_LIST_CVS_DATE_FILE)"
   ]
  },
  {
   "cell_type": "code",
   "execution_count": 12,
   "metadata": {
    "scrolled": true
   },
   "outputs": [
    {
     "name": "stdout",
     "output_type": "stream",
     "text": [
      "已生成Tfrecord文件\n"
     ]
    }
   ],
   "source": [
    "def create_record(image_list,label_list,driver_list):\n",
    "    #驾驶员Id\n",
    "    driverId = 2\n",
    "    #存放图片个数\n",
    "    bestnum = 100\n",
    "    #第几个图片\n",
    "    num = 0\n",
    "    #第几个TFRecord文件\n",
    "    recordfilenum = 0\n",
    "\n",
    "    if isfile(\"distracted_driver_detection_dataset/driverData.tfrecords-002\"): \n",
    "        print(\"已生成Tfrecord文件\")\n",
    "    else:\n",
    "        new_file_date_name = (\"distracted_driver_detection_dataset/driverData.tfrecords-%.3d\"%driverId)\n",
    "        print(new_file_date_name)\n",
    "        writer = tf.python_io.TFRecordWriter(new_file_date_name) \n",
    "        \n",
    "        for index,img_path in enumerate(image_list):\n",
    "            if driver_list[index]>driverId:       \n",
    "                driverId = driver_list[index]\n",
    "                new_file_date_name = (\"distracted_driver_detection_dataset/driverData.tfrecords-%.3d\"%driverId)\n",
    "                print(new_file_date_name)\n",
    "                writer = tf.python_io.TFRecordWriter(new_file_date_name)\n",
    "            num = num +1\n",
    "            \n",
    "            img=Image.open(img_path,'r') \n",
    "            size = img.size \n",
    "            img_raw = img.tobytes()      #将图one_hot_encode片转化为原生bytes\n",
    "            \n",
    "            #size = img.size\n",
    "            example = tf.train.Example( \n",
    "                features=tf.train.Features(feature={ \n",
    "                'driver': tf.train.Feature(int64_list=tf.train.Int64List(value=[driver_list[index]])), \n",
    "                'label': tf.train.Feature(int64_list=tf.train.Int64List(value=[label_list[index]])), \n",
    "                'img_raw': tf.train.Feature(bytes_list=tf.train.BytesList(value=[img_raw])), \n",
    "                'img_width':tf.train.Feature(int64_list=tf.train.Int64List(value=[size[0]])), \n",
    "                'img_height':tf.train.Feature(int64_list=tf.train.Int64List(value=[size[1]])) \n",
    "            }))  \n",
    "            writer.write(example.SerializeToString())\n",
    "        writer.close()\n",
    "        print( \"all tfrecordfile is done!\")\n",
    "\n",
    "create_record(get_image_list,get_label_list,get_driver_list)"
   ]
  },
  {
   "cell_type": "code",
   "execution_count": 13,
   "metadata": {
    "collapsed": true
   },
   "outputs": [],
   "source": [
    "def read_and_decode(filename):   \n",
    "    filename_queue = tf.train.string_input_producer(filename,shuffle=False)  \n",
    "    #filename_queue = tf.train.string_input_producer([filename])  \n",
    "    reader = tf.TFRecordReader() \n",
    "    _, serialized_example = reader.read(filename_queue)   #返回文件名和文件 \n",
    "    features = tf.parse_single_example(serialized_example, \n",
    "                                       features={ \n",
    "                                           'driver': tf.FixedLenFeature([], tf.int64), \n",
    "                                           'label': tf.FixedLenFeature([], tf.int64), \n",
    "                                           'img_raw' : tf.FixedLenFeature([], tf.string) ,\n",
    "                                           'img_width': tf.FixedLenFeature([], tf.int64), \n",
    "                                           'img_height': tf.FixedLenFeature([], tf.int64), \n",
    "                                       })  #取出包含image和label的feature对象 \n",
    "    #tf.decode_raw可以将字符串解析成图像对应的像素数组     \n",
    "    driver = tf.cast(features['driver'], tf.int32) \n",
    "    image = tf.decode_raw(features['img_raw'], tf.uint8)\n",
    "    label = tf.cast(features['label'], tf.int32) \n",
    "    height = tf.cast(features['img_height'],tf.int32) \n",
    "    width = tf.cast(features['img_width'],tf.int32) \n",
    "\n",
    "    channel = 3 \n",
    "    image = tf.reshape(image, [480,640,3])\n",
    "    \n",
    "    image = tf.image.convert_image_dtype(image, dtype=tf.float32)  \n",
    "\n",
    "    return driver,image,label\n",
    "\n",
    "#train01_filename='E:\\\\pythonProject\\\\machineLearningProgress\\\\distracted_driver_detection\\\\distracted_driver_detection_dataset\\\\driverTrainData.tfrecords-000'\n",
    "#file_img, file_label = read_and_decode([train01_filename])"
   ]
  },
  {
   "cell_type": "code",
   "execution_count": 14,
   "metadata": {
    "collapsed": true
   },
   "outputs": [],
   "source": [
    "#将图像和标签数据通过 tf.train.batch 整理成神经网络训练时需要的batch\n",
    "def getBatch(filename,batch_size,capacity):    \n",
    "    file_driver,file_img, file_label = read_and_decode(filename)\n",
    "    driver_batches,image_batches,label_batches = tf.train.batch([file_driver,file_img, file_label], batch_size=batch_size, capacity=capacity)\n",
    "    return driver_batches,image_batches,label_batches"
   ]
  },
  {
   "cell_type": "code",
   "execution_count": 15,
   "metadata": {
    "collapsed": true
   },
   "outputs": [],
   "source": [
    "# 创建编码器\n",
    "from sklearn import preprocessing\n",
    "nb_classes = 10\n",
    "def indices_to_one_hot(data, nb_classes):\n",
    "    \"\"\"Convert an iterable of indices to one-hot encoded labels.\"\"\"\n",
    "    targets = np.array(data).reshape(-1)\n",
    "    return np.eye(nb_classes)[targets]\n",
    "# Create the encoder 创建编码器\n",
    "lb = preprocessing.LabelBinarizer() \n",
    "def one_hot_encode(y):\n",
    "    labels = indices_to_one_hot(y,nb_classes)\n",
    "    # 编码器找到类别并分配 one-hot 向量\n",
    "    lb.fit(labels)\n",
    "    # 最后把目标（lables）转换成独热编码的（one-hot encoded）向量   \n",
    "    return  lb.transform(labels)"
   ]
  },
  {
   "cell_type": "code",
   "execution_count": 16,
   "metadata": {
    "collapsed": true
   },
   "outputs": [],
   "source": [
    "#标准化\n",
    "def normalize(x):\n",
    "    output = (x-np.min(x))/(np.max(x)-np.min(x))\n",
    "    return output"
   ]
  },
  {
   "cell_type": "markdown",
   "metadata": {},
   "source": [
    "## 构建网络\n"
   ]
  },
  {
   "cell_type": "code",
   "execution_count": 7,
   "metadata": {
    "collapsed": true
   },
   "outputs": [],
   "source": [
    "### 卷积\n",
    "def conv2d(x_tensor, conv_num_outputs, conv_ksize, conv_strides, pool_ksize, pool_strides):     \n",
    "    print(\"conv2d in :\")\n",
    "    print(x_tensor)\n",
    "    # TODO: Implement Function\n",
    "    pool_shape = x_tensor.get_shape().as_list()\n",
    "    # Weight and bias\n",
    "    weight = tf.Variable(tf.truncated_normal([conv_ksize[0],conv_ksize[1],pool_shape[3], conv_num_outputs],0,0.01))\n",
    "    bias = tf.Variable(tf.zeros(conv_num_outputs)) \n",
    "    conv_layer = tf.nn.conv2d(x_tensor, weight, strides=[1,conv_strides[0],conv_strides[1],1], padding='VALID')\n",
    "    # Add bias\n",
    "    conv_layer = tf.nn.bias_add(conv_layer, bias)\n",
    "    \n",
    "    print(\"conv2d out :\")\n",
    "    print(conv_layer)\n",
    "    return conv_layer \n"
   ]
  },
  {
   "cell_type": "code",
   "execution_count": 8,
   "metadata": {
    "collapsed": true
   },
   "outputs": [],
   "source": [
    "### 激活层\n",
    "def conv2d_relu(conv_layer):\n",
    "    print(\"conv2d_relu in \") \n",
    "    print(conv_layer)\n",
    "    # Apply activation function\n",
    "    conv_layer = tf.nn.relu(conv_layer)\n",
    "    print(\"conv2d_relu out \")\n",
    "    print(conv_layer)\n",
    "    return conv_layer \n",
    "    "
   ]
  },
  {
   "cell_type": "code",
   "execution_count": 9,
   "metadata": {
    "collapsed": true
   },
   "outputs": [],
   "source": [
    "#池化层\n",
    "def conv2d_maxpool(conv_layer,conv_ksize, conv_strides, pool_ksize, pool_strides):    \n",
    "    print(\"conv2d_maxpool in  \")    \n",
    "    print(conv_layer)\n",
    "    # Apply Max Pooling\n",
    "    conv_layer = tf.nn.max_pool(\n",
    "        conv_layer,\n",
    "        ksize=[1,pool_ksize[0],pool_ksize[1],1],\n",
    "        strides=[1,pool_strides[0],pool_strides[1],1],\n",
    "        padding='VALID')\n",
    "    print(\"conv2d_maxpool out \")\n",
    "    print(conv_layer)\n",
    "    return conv_layer "
   ]
  },
  {
   "cell_type": "code",
   "execution_count": 10,
   "metadata": {
    "collapsed": true
   },
   "outputs": [],
   "source": [
    "#BN归一化层\n",
    "def batch_normal(conv_layer, conv_num_outputs, conv_ksize, conv_strides, pool_ksize, pool_strides):\n",
    "    print(conv_num_outputs)\n",
    "    print(\"batch_normal in \")    \n",
    "    print(conv_layer)\n",
    "    batch_mean, batch_var = tf.nn.moments(conv_layer, [0, 1, 2], keep_dims=True)\n",
    "    print(batch_mean, batch_var)\n",
    "    shift = tf.Variable(tf.zeros([conv_num_outputs]))\n",
    "    scale = tf.Variable(tf.ones([conv_num_outputs]))\n",
    "    epsilon = 1e-3\n",
    "    BN_out = tf.nn.batch_normalization(conv_layer, batch_mean, batch_var, shift, scale, epsilon)    \n",
    "    print (\"batch_normal BN_out \"  )\n",
    "    print (BN_out)\n",
    "    relu_BN_maps2 = tf.nn.relu(BN_out)\n",
    "    print (\"batch_normal out \")\n",
    "    print (relu_BN_maps2)\n",
    "    return relu_BN_maps2\n"
   ]
  },
  {
   "cell_type": "code",
   "execution_count": 11,
   "metadata": {
    "collapsed": true
   },
   "outputs": [],
   "source": [
    "### 扁平化层\n",
    "#实现 `flatten` 函数，将 `x_tensor` 的维度从四维张量（4-D tensor）变成二维张量。输出应该是形状（*部分大小（Batch Size）*，\n",
    "#*扁平化图片大小（Flattened Image Size）*）。\n",
    "def flatten(x_tensor):\n",
    "    print(\"flatten in \")\n",
    "    print(x_tensor)\n",
    "    pool_shape = x_tensor.get_shape().as_list()\n",
    "    nodes = pool_shape[1]*pool_shape[2]*pool_shape[3]\n",
    "    reshaped = tf.reshape(x_tensor,[-1,nodes])    \n",
    "    print(\"flatten out \" )\n",
    "    print(reshaped)\n",
    "    return reshaped"
   ]
  },
  {
   "cell_type": "code",
   "execution_count": 12,
   "metadata": {
    "collapsed": true
   },
   "outputs": [],
   "source": [
    "#全连接层\n",
    "#实现 fully_conn 函数，以向 x_tensor 应用完全连接的层级，形状为（部分大小（Batch Size），num_outputs）。\n",
    "def fully_conn(x_tensor, num_outputs):      \n",
    "    print(\"fully_conn in \" )\n",
    "    print(x_tensor)\n",
    "    pool_shape = x_tensor.get_shape().as_list()\n",
    "    weight = tf.Variable(tf.truncated_normal([pool_shape[1],num_outputs],0,0.01))\n",
    "    bias = tf.Variable(tf.zeros(num_outputs))\n",
    "    fully_tensor = tf.nn.relu(tf.matmul(x_tensor,weight)+bias)        \n",
    "    print(\"fully_conn out \" )\n",
    "    print(fully_tensor)\n",
    "    return fully_tensor"
   ]
  },
  {
   "cell_type": "code",
   "execution_count": 14,
   "metadata": {
    "collapsed": true
   },
   "outputs": [],
   "source": [
    "#输出层\n",
    "#实现 output 函数，向 x_tensor 应用完全连接的层级，形状为（部分大小（Batch Size），num_outputs）。\n",
    "def output(x_tensor, num_outputs):    \n",
    "    print(\"output in \")\n",
    "    print(x_tensor)\n",
    "    pool_shape = x_tensor.get_shape().as_list()    \n",
    "    weight = tf.Variable(tf.truncated_normal([pool_shape[1],num_outputs],0,0.01)) \n",
    "    bias = tf.Variable(tf.zeros(num_outputs))\n",
    "    out_tensor = tf.matmul(x_tensor,weight)+bias    \n",
    "    print(\"output out \" )\n",
    "    print(out_tensor)\n",
    "    return out_tensor"
   ]
  },
  {
   "cell_type": "code",
   "execution_count": 13,
   "metadata": {
    "collapsed": true
   },
   "outputs": [],
   "source": [
    "#创建卷积模型\n",
    "#实现函数 conv_net， 创建卷积神经网络模型。该函数传入一批图片 x，并输出对数（logits）。\n",
    "def conv_net(x, keep_prob):   \n",
    "    pool_shape = x.get_shape().as_list()\n",
    "    conv = x\n",
    "    conv_ksize =[3,3]\n",
    "    conv_strides=[1,1]\n",
    "    pool_ksize =[3,3]\n",
    "    pool_strides =[2,2]\n",
    "    regionalShap = conv.get_shape().as_list()[3]\n",
    "    for i in range(2):\n",
    "        conv_num_outputs = regionalShap *(2**(i+1))\n",
    "        conv = conv2d(conv,conv_num_outputs,conv_ksize,conv_strides,pool_ksize,pool_strides)\n",
    "        conv = conv2d_relu(conv)\n",
    "        conv = conv2d_maxpool(conv,conv_ksize, conv_strides, pool_ksize, pool_strides)        \n",
    "        conv_num_outputs = regionalShap *(2**(i+2))\n",
    "        conv = conv2d(conv,conv_num_outputs,conv_ksize,conv_strides,pool_ksize,pool_strides)\n",
    "        conv = batch_normal(conv,conv_num_outputs,conv_ksize,conv_strides,pool_ksize,pool_strides)\n",
    "        conv = conv2d_maxpool(conv,conv_ksize, conv_strides, pool_ksize, pool_strides)\n",
    "         \n",
    "    flatconv = flatten(conv)\n",
    "    \n",
    "    for i in range(1):\n",
    "        conv_num_outputs = int(conv_num_outputs/(2**(i)))\n",
    "        if i ==0 :\n",
    "            fullconv = fully_conn(flatconv, conv_num_outputs)\n",
    "        else:\n",
    "            fullconv = fully_conn(fullconv, conv_num_outputs)\n",
    "        fullconv = tf.nn.dropout(fullconv, keep_prob)\n",
    "    \n",
    "    out1 = output(fullconv, 10)\n",
    "    # TODO: return output\n",
    "    return out1"
   ]
  },
  {
   "cell_type": "markdown",
   "metadata": {},
   "source": [
    "## 构建inception-v4网络\n"
   ]
  },
  {
   "cell_type": "code",
   "execution_count": 1,
   "metadata": {
    "collapsed": true
   },
   "outputs": [],
   "source": [
    "import tensorflow.contrib.slim as slim\n",
    "def Stem(inputs):  \n",
    "    output = slim.conv2d(inputs, 32, [3, 3], stride=2, padding='VALID')  \n",
    "    output = slim.conv2d(output, 32, [3, 3], padding='VALID')  \n",
    "    output = slim.conv2d(output, 64, [3, 3])  \n",
    "    output_left = slim.max_pool2d(output, [3, 3])  \n",
    "    output_right = slim.conv2d(output, 96, [3, 3], stride=2, padding='VALID')  \n",
    "    output = tf.concat([output_left, output_right], 3)  \n",
    "    \n",
    "    output_left = slim.conv2d(output, 64, [1, 1])  \n",
    "    output_left = slim.conv2d(output_left, 96, [3, 3], padding='VALID')  \n",
    "    output_right = slim.conv2d(output, 64, [1, 1])  \n",
    "    output_right = slim.conv2d(output_right, 64, [7, 1])  \n",
    "    output_right = slim.conv2d(output_right, 64, [1, 7])  \n",
    "    output_right = slim.conv2d(output_right, 96, [3, 3], padding='VALID')  \n",
    "    output = tf.concat([output_left, output_right], 3)  \n",
    "    \n",
    "    output_left = slim.conv2d(output, 192, [3, 3], stride=2, padding='VALID')  \n",
    "    output_right = slim.max_pool2d(output, [3, 3])  \n",
    "    output = tf.concat([output_left, output_right], 3)  \n",
    "    return tf.nn.relu(output)  \n"
   ]
  },
  {
   "cell_type": "code",
   "execution_count": 3,
   "metadata": {
    "collapsed": true
   },
   "outputs": [],
   "source": [
    "def Inception_ResNet_A(inputs, activation_fn=tf.nn.relu):\n",
    "\n",
    "    output_res = tf.identity(inputs)\n",
    "\n",
    "    output_inception_a = slim.conv2d(inputs, 32, [1, 1])\n",
    "    output_inception_a = slim.conv2d(output_inception_a, 384, [1, 1], activation_fn=None)\n",
    "\n",
    "    output_inception_b = slim.conv2d(inputs, 32, [1, 1])\n",
    "    output_inception_b = slim.conv2d(output_inception_b, 32, [3, 3])\n",
    "    output_inception_b = slim.conv2d(output_inception_b, 384, [1, 1], activation_fn=None)\n",
    "\n",
    "    output_inception_c = slim.conv2d(inputs , 32, [1, 1])\n",
    "    output_inception_c = slim.conv2d(output_inception_c, 48, [3, 3])\n",
    "    output_inception_c = slim.conv2d(output_inception_c, 64, [3, 3])\n",
    "    output_inception_c = slim.conv2d(output_inception_c, 384, [1, 1], activation_fn=None)\n",
    "\n",
    "    output_inception = tf.add_n([output_inception_a, output_inception_b, output_inception_c])\n",
    "    output_inception = tf.multiply(output_inception, 0.1)\n",
    "\n",
    "    return activation_fn(tf.add_n([output_res, output_inception]))"
   ]
  },
  {
   "cell_type": "code",
   "execution_count": 4,
   "metadata": {
    "collapsed": true
   },
   "outputs": [],
   "source": [
    "def Reduction_A(inputs):\n",
    "\n",
    "    output_a = slim.max_pool2d(inputs, [3, 3])\n",
    "    output_b = slim.conv2d(inputs, 384, [3, 3], stride=2, padding='VALID')\n",
    "    output_c = slim.conv2d(inputs, 256, [1, 1])\n",
    "    output_c = slim.conv2d(output_c, 256, [3, 3])\n",
    "    output_c = slim.conv2d(output_c, 384, [3, 3], stride=2, padding='VALID')\n",
    "    return tf.nn.relu(tf.concat([output_a, output_b, output_c], 3))"
   ]
  },
  {
   "cell_type": "code",
   "execution_count": 5,
   "metadata": {
    "collapsed": true
   },
   "outputs": [],
   "source": [
    "def Inception_ResNet_B(inputs, acfivation_fn=tf.nn.relu):\n",
    "\n",
    "    output_res = tf.identity(inputs)\n",
    "    output_a = slim.conv2d(inputs, 192, [1, 1])\n",
    "    output_a = slim.conv2d(output_a, 1152, [1, 1], activation_fn=None)\n",
    "    output_b = slim.conv2d(inputs, 128, [1, 1])\n",
    "    output_b = slim.conv2d(output_b, 160, [1, 7])\n",
    "    output_b = slim.conv2d(output_b, 192, [7, 1])\n",
    "    output_b = slim.conv2d(output_b, 1152, [1, 1], activation_fn=None)\n",
    "    output = tf.add_n([output_a, output_b])\n",
    "    output = tf.multiply(output, 0.1)\n",
    "    return acfivation_fn(tf.add_n([output_res, output]))"
   ]
  },
  {
   "cell_type": "code",
   "execution_count": 6,
   "metadata": {
    "collapsed": true
   },
   "outputs": [],
   "source": [
    "def Reduction_B(inputs):\n",
    "\n",
    "    output_a = slim.max_pool2d(inputs, [3, 3])\n",
    "\n",
    "    output_b = slim.conv2d(inputs, 256, [1, 1])\n",
    "    output_b = slim.conv2d(output_b, 384, [3, 3], stride=2, padding='VALID')\n",
    "\n",
    "    output_c = slim.conv2d(inputs, 256, [1, 1])\n",
    "    output_c = slim.conv2d(output_c, 256, [1, 1])\n",
    "    output_c = slim.conv2d(output_c, 288, [3, 3], stride=2, padding='VALID')\n",
    "\n",
    "    output_d = slim.conv2d(inputs, 256, [1, 1])\n",
    "    output_d = slim.conv2d(output_d, 288, [3, 3])\n",
    "    output_d = slim.conv2d(output_d, 320, [3, 3], stride=2, padding='VALID')\n",
    "\n",
    "    return tf.nn.relu(tf.concat([output_a, output_b, output_c, output_d], 3))"
   ]
  },
  {
   "cell_type": "code",
   "execution_count": 7,
   "metadata": {
    "collapsed": true
   },
   "outputs": [],
   "source": [
    "def Inception_ResNet_C(inputs, activation_fn=tf.nn.relu):\n",
    "\n",
    "    output_res = tf.identity(inputs)\n",
    "\n",
    "    output_a = slim.conv2d(inputs, 192, [1, 1])\n",
    "    output_a = slim.conv2d(output_a, 2144, [1, 1], activation_fn=None)\n",
    "\n",
    "    output_b = slim.conv2d(inputs, 192, [1, 1])\n",
    "    output_b = slim.conv2d(output_b, 224, [1, 3])\n",
    "    output_b = slim.conv2d(output_b, 256, [3, 1])\n",
    "    output_b = slim.conv2d(output_b, 2144, [1, 1], activation_fn=None)\n",
    "\n",
    "    output = tf.add_n([output_a, output_b])\n",
    "    output = tf.multiply(output, 0.1)\n",
    "\n",
    "    return activation_fn(tf.add_n([output_res, output]))"
   ]
  },
  {
   "cell_type": "code",
   "execution_count": 8,
   "metadata": {
    "collapsed": true
   },
   "outputs": [],
   "source": [
    "def Average_Pooling(inputs):\n",
    "\n",
    "    output = slim.avg_pool2d(inputs, [8, 8])\n",
    "    return output\n",
    "\n",
    "def Dropout(inputs, keep=0.8):\n",
    "\n",
    "    output = slim.dropout(inputs, keep_prob=keep)\n",
    "    return output"
   ]
  },
  {
   "cell_type": "code",
   "execution_count": 10,
   "metadata": {},
   "outputs": [
    {
     "name": "stdout",
     "output_type": "stream",
     "text": [
      "Tensor(\"fc/fully_connected/Relu:0\", shape=(?, 10), dtype=float32)\n"
     ]
    },
    {
     "data": {
      "text/plain": [
       "<tf.Tensor 'fc/fully_connected/Relu:0' shape=(?, 10) dtype=float32>"
      ]
     },
     "execution_count": 10,
     "metadata": {},
     "output_type": "execute_result"
    }
   ],
   "source": [
    "\n",
    "def Forward(inputs, num_classes):\n",
    "\n",
    "    with slim.arg_scope([slim.conv2d],\n",
    "                        weights_initializer=tf.truncated_normal_initializer(stddev=0.1),\n",
    "                        activation_fn = tf.nn.relu,\n",
    "                        normalizer_fn = slim.batch_norm):\n",
    "\n",
    "        with tf.name_scope('Stem'):\n",
    "            output = Stem(inputs)\n",
    "\n",
    "        with tf.name_scope('5xInception-ResNet-A'):\n",
    "            for i in range(5):\n",
    "                output = Inception_ResNet_A(output)\n",
    "\n",
    "        with tf.name_scope('Reduction-A'):\n",
    "            output = Reduction_A(output)\n",
    "\n",
    "        with tf.name_scope('10xInception-ResNet-B'):\n",
    "            for i in range(10):\n",
    "                output = Inception_ResNet_B(output)\n",
    "\n",
    "        with tf.name_scope('Reduction-B'):\n",
    "            output = Reduction_B(output)\n",
    "\n",
    "        with tf.name_scope('5xInception-ResNet-C'):\n",
    "            for i in range(5):\n",
    "                output = Inception_ResNet_C(output)\n",
    "            \n",
    "        with tf.name_scope('AveragePooling'):\n",
    "            output = Average_Pooling(output)\n",
    "\n",
    "        with tf.name_scope('Dropout0.8'):\n",
    "            output = Dropout(output)\n",
    "            output = slim.flatten(output)\n",
    "\n",
    "        with tf.name_scope('fc'):\n",
    "            output = slim.fully_connected(output,num_classes)\n",
    "            \n",
    "        print(output)\n",
    "\n",
    "        return output\n",
    "x = tf.placeholder(tf.float32,shape=[None,480,640,3],name='x')\n",
    "y = tf.placeholder(tf.int32,shape=[20,10],name='y')    \n",
    "Forward(x, 10)"
   ]
  },
  {
   "cell_type": "markdown",
   "metadata": {},
   "source": [
    "## 训练神经网络\n",
    "单次优化\n",
    "实现函数 train_neural_network 以进行单次优化（single optimization）。该优化应该使用 optimizer 优化 session，其中 feed_dict 具有以下参数：\n",
    "x 表示图片输入\n",
    "y 表示标签\n",
    "keep_prob 表示丢弃的保留率\n"
   ]
  },
  {
   "cell_type": "code",
   "execution_count": null,
   "metadata": {
    "scrolled": true
   },
   "outputs": [
    {
     "name": "stdout",
     "output_type": "stream",
     "text": [
      "Tensor(\"fc_1/fully_connected/Relu:0\", shape=(?, 10), dtype=float32)\n",
      "Checking the Training on ...\n",
      "验证集驾驶员编码是:P002\n",
      "训练集和验证集的数量比率:029\n"
     ]
    }
   ],
   "source": [
    "def run_training():\n",
    "    x = tf.placeholder(tf.float32,shape=[None,480,640,3],name='x')\n",
    "    y = tf.placeholder(tf.int32,shape=[20,10],name='y')\n",
    "    keep_prob = tf.placeholder(tf.float32,name='keep_prob') \n",
    "\n",
    "    logits = Forward(x,10)\n",
    "    logits = tf.identity(logits, name='logits')\n",
    "    cost = tf.reduce_mean(tf.nn.softmax_cross_entropy_with_logits(logits=logits, labels=y))\n",
    "    optimizer = tf.train.AdamOptimizer().minimize(cost)\n",
    "    #optimizer = tf.train.GradientDescentOptimizer(0.01).minimize(cost)\n",
    "    correct_pred = tf.equal(tf.argmax(logits, 1), tf.argmax(y, 1))\n",
    "    accuracy = tf.reduce_mean(tf.cast(correct_pred, tf.float32), name='accuracy')\n",
    "    \n",
    "    keep_probability = 0.8\n",
    "    print('Checking the Training on ...')\n",
    "    \n",
    "    imageTfRecordDriverName =[2,12,14,15,16,21,22,24,26,35,\n",
    "                              39,41,42,45,47,49,50,51,52,56,\n",
    "                              61,64,66,72,75,81]\n",
    "    imageTfRecordDriverNum =[725,823,876,875,1078,1237,1233,1226,1196,848,\n",
    "                             651,605,591,724,835,1011,790,920,794,740,\n",
    "                             809,820,1034,346,814,823]\n",
    "    \n",
    "    epoch = 0\n",
    "    #取到的信息进行交叉验证，产生训练集和测试集\n",
    "    kf = KFold(n_splits=26, random_state=None, shuffle=False)\n",
    "    for train_index, valid_index in kf.split(imageTfRecordDriverName):\n",
    "        imageTrainTfRecordFileName = []\n",
    "        imageValidTfRecordFileName = []\n",
    "        trainNum = 0\n",
    "        validNum = 0\n",
    "        epochCost = []\n",
    "        for imageTrainTfRecordSize in train_index:\n",
    "            driverName = imageTfRecordDriverName[imageTrainTfRecordSize]\n",
    "            driverNum = imageTfRecordDriverNum[imageTrainTfRecordSize]\n",
    "            imageTrainTfRecordFileName.append(cwd+\"\\distracted_driver_detection_dataset\\driverData.tfrecords-%.3d\"%driverName)\n",
    "            trainNum = trainNum + driverNum\n",
    "            \n",
    "        for imageValidTfRecordSize in valid_index :\n",
    "            driverName = imageTfRecordDriverName[imageValidTfRecordSize]\n",
    "            print(\"验证集驾驶员编码是:P%.3d\" %driverName)\n",
    "            driverNum = imageTfRecordDriverNum[imageValidTfRecordSize]\n",
    "            imageValidTfRecordFileName.append(cwd+\"\\distracted_driver_detection_dataset\\driverData.tfrecords-%.3d\"%driverName)\n",
    "            validNum = validNum + driverNum\n",
    "        \n",
    "        train_driver_batch,train_image_batch, train_label_batch = getBatch(imageTrainTfRecordFileName,20,60)\n",
    "        valid_driver_batch,valid_image_batch, valid_label_batch = getBatch(imageValidTfRecordFileName,20,60)\n",
    "        \n",
    "        ration = int(trainNum/validNum)\n",
    "        print(\"训练集和验证集的数量比率:%.3d\"%ration)\n",
    "        \n",
    "        with tf.Session() as sess:\n",
    "            sess.run(tf.global_variables_initializer())\n",
    "            coord = tf.train.Coordinator()\n",
    "            threads = tf.train.start_queue_runners(coord=coord)\n",
    "            for i in range(int(trainNum/20)):\n",
    "                trainDriver,trainImage, trainLabel = sess.run([train_driver_batch,train_image_batch,train_label_batch])\n",
    "                trainImage = normalize(trainImage)\n",
    "                trainLabel = one_hot_encode(trainLabel)\n",
    "                sess.run(optimizer, feed_dict= {x: trainImage,y: trainLabel,keep_prob:keep_probability})\n",
    "                if i%ration == 0:\n",
    "                    validDriver,validImage, validLabel = sess.run([valid_driver_batch,valid_image_batch, valid_label_batch])\n",
    "                    validImage = normalize(validImage)\n",
    "                    validLabel = one_hot_encode(validLabel)\n",
    "                    current_cost = sess.run(cost,feed_dict={x: trainImage, y: trainLabel,keep_prob: 1.0}) \n",
    "                    valid_accuracy = sess.run(accuracy,feed_dict={x: validImage, y:validLabel ,keep_prob: 1.0})  \n",
    "                    print('epoch:{:<5} imageBatchCount:{:<5} Cost: {:<5.3} Valid Accuracy: {:<5.3}'.format(epoch,i,current_cost, valid_accuracy))\n",
    "                    epochCost.append(current_cost)\n",
    "            saver = tf.train.Saver()\n",
    "            save_path = saver.save(sess,SAVE_MODEL_PATH,global_step = epoch)            \n",
    "            epoch = epoch+1\n",
    "            print('Training finish ...')\n",
    "            coord.request_stop()\n",
    "            coord.join(threads) \n",
    "            sess.close()\n",
    "run_training()"
   ]
  },
  {
   "cell_type": "markdown",
   "metadata": {},
   "source": [
    "## 测试图片\n",
    "\n"
   ]
  },
  {
   "cell_type": "code",
   "execution_count": 16,
   "metadata": {},
   "outputs": [
    {
     "data": {
      "image/png": "[encoded data removed]",
      "text/plain": [
       "<matplotlib.figure.Figure at 0x19ca372aa58>"
      ]
     },
     "metadata": {},
     "output_type": "display_data"
    },
    {
     "name": "stdout",
     "output_type": "stream",
     "text": [
      "conv2d in :\n",
      "Tensor(\"Reshape:0\", shape=(1, 480, 640, 3), dtype=float32)\n",
      "conv2d out :\n",
      "Tensor(\"BiasAdd:0\", shape=(1, 478, 638, 6), dtype=float32)\n",
      "conv2d_relu in \n",
      "Tensor(\"BiasAdd:0\", shape=(1, 478, 638, 6), dtype=float32)\n",
      "conv2d_relu out \n",
      "Tensor(\"Relu:0\", shape=(1, 478, 638, 6), dtype=float32)\n",
      "conv2d_maxpool in  \n",
      "Tensor(\"Relu:0\", shape=(1, 478, 638, 6), dtype=float32)\n",
      "conv2d_maxpool out \n",
      "Tensor(\"MaxPool:0\", shape=(1, 238, 318, 6), dtype=float32)\n",
      "conv2d in :\n",
      "Tensor(\"MaxPool:0\", shape=(1, 238, 318, 6), dtype=float32)\n",
      "conv2d out :\n",
      "Tensor(\"BiasAdd_1:0\", shape=(1, 236, 316, 12), dtype=float32)\n",
      "12\n",
      "batch_normal in \n",
      "Tensor(\"BiasAdd_1:0\", shape=(1, 236, 316, 12), dtype=float32)\n",
      "Tensor(\"moments/mean:0\", shape=(1, 1, 1, 12), dtype=float32) Tensor(\"moments/variance:0\", shape=(1, 1, 1, 12), dtype=float32)\n",
      "batch_normal BN_out \n",
      "Tensor(\"batchnorm/add_1:0\", shape=(1, 236, 316, 12), dtype=float32)\n",
      "batch_normal out \n",
      "Tensor(\"Relu_1:0\", shape=(1, 236, 316, 12), dtype=float32)\n",
      "conv2d_maxpool in  \n",
      "Tensor(\"Relu_1:0\", shape=(1, 236, 316, 12), dtype=float32)\n",
      "conv2d_maxpool out \n",
      "Tensor(\"MaxPool_1:0\", shape=(1, 117, 157, 12), dtype=float32)\n",
      "conv2d in :\n",
      "Tensor(\"MaxPool_1:0\", shape=(1, 117, 157, 12), dtype=float32)\n",
      "conv2d out :\n",
      "Tensor(\"BiasAdd_2:0\", shape=(1, 115, 155, 12), dtype=float32)\n",
      "conv2d_relu in \n",
      "Tensor(\"BiasAdd_2:0\", shape=(1, 115, 155, 12), dtype=float32)\n",
      "conv2d_relu out \n",
      "Tensor(\"Relu_2:0\", shape=(1, 115, 155, 12), dtype=float32)\n",
      "conv2d_maxpool in  \n",
      "Tensor(\"Relu_2:0\", shape=(1, 115, 155, 12), dtype=float32)\n",
      "conv2d_maxpool out \n",
      "Tensor(\"MaxPool_2:0\", shape=(1, 57, 77, 12), dtype=float32)\n",
      "conv2d in :\n",
      "Tensor(\"MaxPool_2:0\", shape=(1, 57, 77, 12), dtype=float32)\n",
      "conv2d out :\n",
      "Tensor(\"BiasAdd_3:0\", shape=(1, 55, 75, 24), dtype=float32)\n",
      "24\n",
      "batch_normal in \n",
      "Tensor(\"BiasAdd_3:0\", shape=(1, 55, 75, 24), dtype=float32)\n",
      "Tensor(\"moments_1/mean:0\", shape=(1, 1, 1, 24), dtype=float32) Tensor(\"moments_1/variance:0\", shape=(1, 1, 1, 24), dtype=float32)\n",
      "batch_normal BN_out \n",
      "Tensor(\"batchnorm_1/add_1:0\", shape=(1, 55, 75, 24), dtype=float32)\n",
      "batch_normal out \n",
      "Tensor(\"Relu_3:0\", shape=(1, 55, 75, 24), dtype=float32)\n",
      "conv2d_maxpool in  \n",
      "Tensor(\"Relu_3:0\", shape=(1, 55, 75, 24), dtype=float32)\n",
      "conv2d_maxpool out \n",
      "Tensor(\"MaxPool_3:0\", shape=(1, 27, 37, 24), dtype=float32)\n",
      "flatten in \n",
      "Tensor(\"MaxPool_3:0\", shape=(1, 27, 37, 24), dtype=float32)\n",
      "flatten out \n",
      "Tensor(\"Reshape_1:0\", shape=(1, 23976), dtype=float32)\n",
      "fully_conn in \n",
      "Tensor(\"Reshape_1:0\", shape=(1, 23976), dtype=float32)\n",
      "fully_conn out \n",
      "Tensor(\"Relu_4:0\", shape=(1, 24), dtype=float32)\n",
      "output in \n",
      "Tensor(\"dropout/mul:0\", shape=(1, 24), dtype=float32)\n",
      "output out \n",
      "Tensor(\"add_1:0\", shape=(1, 10), dtype=float32)\n",
      "INFO:tensorflow:Restoring parameters from saved_model/model.ckpt\n",
      "预测的标签为：\n",
      "8\n",
      "预测的结果为：\n",
      "[[ 0.0999978   0.10000101  0.09998893  0.09999362  0.09999631  0.10000339\n",
      "   0.09999528  0.10000746  0.10001531  0.10000087]]\n",
      "整理头发和化妆的可能性为 0.100015\n"
     ]
    }
   ],
   "source": [
    "def get_one_image(img_dir):\n",
    "    image = Image.open(img_dir)\n",
    "    plt.imshow(image)\n",
    "    plt.show()\n",
    "    image = image.resize([640, 480])\n",
    "    image_arr = np.array(image)\n",
    "    return image_arr\n",
    "\n",
    "def test(test_file):\n",
    "    image_arr = get_one_image(test_file)\n",
    "    image_arr = normalize(image_arr)\n",
    "    with tf.Graph().as_default():\n",
    "        image = tf.cast(image_arr, tf.float32)\n",
    "        image = tf.reshape(image, [1,480,640,3])\n",
    "        x = tf.placeholder(tf.float32,shape = [480,640,3])\n",
    "        keep_prob = tf.placeholder(tf.float32,name='keep_prob') \n",
    "        logits = conv_net(image, keep_prob)\n",
    "        cost = tf.nn.softmax(logits)\n",
    "        saver = tf.train.Saver()\n",
    "\n",
    "        with tf.Session() as sess:    \n",
    "            sess.run(tf.global_variables_initializer())\n",
    "            coord = tf.train.Coordinator()\n",
    "            threads = tf.train.start_queue_runners(coord=coord)  \n",
    "            check_point_path = 'saved_model/' # 保存好模型的文件路径\n",
    "            ckpt = tf.train.get_checkpoint_state(checkpoint_dir=check_point_path)\n",
    "            saver.restore(sess,ckpt.model_checkpoint_path) \n",
    "            prediction = sess.run(cost, feed_dict={x:image_arr,keep_prob:1})\n",
    "            max_index = np.argmax(prediction)\n",
    "            print('预测的标签为：')\n",
    "            print(max_index)\n",
    "            print('预测的结果为：')\n",
    "            print(prediction)\n",
    "            if max_index==0:\n",
    "                print('安全驾驶的可能性为 %.6f' %prediction[:, 0])\n",
    "            elif max_index == 1:\n",
    "                print('右手打字的可能性为 %.6f' %prediction[:, 1])\n",
    "            elif max_index == 2:\n",
    "                print('右手打电话的可能性为 %.6f' %prediction[:, 2])\n",
    "            elif max_index == 3:\n",
    "                print('左手打字的可能性为 %.6f' %prediction[:, 3])\n",
    "            elif max_index == 4:\n",
    "                print('左手打电话的可能性为 %.6f' %prediction[:, 4])            \n",
    "            elif max_index == 5:\n",
    "                print('调收音机的可能性为 %.6f' %prediction[:, 5])          \n",
    "            elif max_index == 6:\n",
    "                print('喝饮料的可能性为 %.6f' %prediction[:, 6])         \n",
    "            elif max_index == 7:\n",
    "                print('拿后面东西的可能性为 %.6f' %prediction[:, 7])       \n",
    "            elif max_index == 8:\n",
    "                print('整理头发和化妆的可能性为 %.6f' %prediction[:, 8])\n",
    "            else :\n",
    "                print('和其他乘客说话的可能性为 %.6f' %prediction[:, 9])\n",
    "                \n",
    "            coord.request_stop()\n",
    "            coord.join(threads) \n",
    "            sess.close()\n",
    "test('E:\\\\pythonProject\\machineLearningProgress\\\\distracted_driver_detection\\\\distracted_driver_detection_dataset\\\\imgs\\\\test\\\\img_2.jpg')\n"
   ]
  },
  {
   "cell_type": "markdown",
   "metadata": {},
   "source": [
    "## 迁移\n"
   ]
  },
  {
   "cell_type": "code",
   "execution_count": null,
   "metadata": {
    "collapsed": true
   },
   "outputs": [],
   "source": []
  }
 ],
 "metadata": {
  "kernelspec": {
   "display_name": "Python 3",
   "language": "python",
   "name": "python3"
  },
  "language_info": {
   "codemirror_mode": {
    "name": "ipython",
    "version": 3
   },
   "file_extension": ".py",
   "mimetype": "text/x-python",
   "name": "python",
   "nbconvert_exporter": "python",
   "pygments_lexer": "ipython3",
   "version": "3.6.2"
  }
 },
 "nbformat": 4,
 "nbformat_minor": 1
}
