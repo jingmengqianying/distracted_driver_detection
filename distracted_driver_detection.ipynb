{
 "cells": [
  {
   "cell_type": "markdown",
   "metadata": {},
   "source": [
    "# 侦测走神司机\n",
    "在此项目中，你将对 [数据集](https://www.kaggle.com/c/state-farm-distracted-driver-detection) 中的驾驶员状态图片进行分类。该数据集包含驾驶员十种状态下的图片。你需要预处理这些图片，然后用所有样本训练一个卷积神经网络。最后，你需要在样本图片上看到神经网络的预测结果。"
   ]
  },
  {
   "cell_type": "markdown",
   "metadata": {},
   "source": [
    "## 获取图片\n",
    "\n",
    "请运行以下单元，以下载 [数据集](https://www.kaggle.com/c/state-farm-distracted-driver-detection/)。将下载后的ZIP格式数据集解压到对应的目录"
   ]
  },
  {
   "cell_type": "code",
   "execution_count": 1,
   "metadata": {},
   "outputs": [
    {
     "name": "stdout",
     "output_type": "stream",
     "text": [
      "E:\\pythonProject\\machineLearningProgress\\distracted_driver_detection\n",
      "all file is exits\n"
     ]
    }
   ],
   "source": [
    "from urllib.request import urlretrieve \n",
    "from os.path import isfile, isdir \n",
    "from tqdm import tqdm \n",
    "import zipfile \n",
    "import csv\n",
    "import os\n",
    "import math  \n",
    "import numpy as np  \n",
    "import matplotlib.pyplot as plt     \n",
    "from PIL import Image\n",
    "from sklearn.model_selection import KFold\n",
    "import pandas as pd\n",
    "import shutil\n",
    "\n",
    "cwd = os.getcwd()\n",
    "print (cwd)\n",
    "\n",
    "#图片数据路径\n",
    "DRIVER_IMGS_PATH = \"./distracted_driver_detection_dataset/\"\n",
    "#图片CSV列表的数据 \n",
    "DRIVER_IMGS_LIST_CVS_DATE_FILE = \"./distracted_driver_detection_dataset/driver_imgs_list.csv\"\n",
    "#图片的数据目录 \n",
    "DRIVER_IMGES_DATASET_FOLDER_PATH = './distracted_driver_detection_dataset/imgs/'\n",
    "#图片的ZIP位置 \n",
    "DRIVER_IMGES_DATASET_LOCATION = './distracted_driver_detection_dataset/imgs.zip'\n",
    "#图片训练集目录\n",
    "TRAIN_DIR = './distracted_driver_detection_dataset/imgs/train/'\n",
    "#图片测试集目录\n",
    "TEST_DIR = './distracted_driver_detection_dataset/imgs/test/'\n",
    "#训练好的模型位置\n",
    "SAVE_MODEL_PATH = './saved_model/'\n",
    "\n",
    "csv_file = csv.reader(open(DRIVER_IMGS_LIST_CVS_DATE_FILE,'r'))\n",
    "\n",
    "if isfile(DRIVER_IMGES_DATASET_LOCATION): \n",
    "    zip_path = DRIVER_IMGES_DATASET_LOCATION \n",
    "else: \n",
    "    zip_path = 'imgs.zip'\n",
    "\n",
    "        \n",
    "if not isfile(zip_path): \n",
    "    with DLProgress(unit='B', unit_scale=True, miniters=1, desc='Dataset') as pbar:\n",
    "        urlretrieve( 'https://www.kaggle.com/c/state-farm-distracted-driver-detection/data/imgs.zip', \n",
    "                    zip_path, \n",
    "                    pbar.hook)\n",
    "        \n",
    "#查看数据集imgs.zip是否已存在,解压到对应目录 \n",
    "if not isdir(DRIVER_IMGES_DATASET_FOLDER_PATH): \n",
    "    with zipfile.ZipFile(zip_path) as zin: \n",
    "        zin.extractall(DRIVER_IMGES_DATASET_FOLDER_PATH) \n",
    "        zin.close()\n",
    "        \n",
    "print(\"all file is exits\")"
   ]
  },
  {
   "cell_type": "code",
   "execution_count": 2,
   "metadata": {
    "scrolled": false
   },
   "outputs": [
    {
     "name": "stdout",
     "output_type": "stream",
     "text": [
      "valid dir is done\n"
     ]
    }
   ],
   "source": [
    "#读取CVS数据将图片分成训练集和验证集\n",
    "def read_cvs_files(): \n",
    "    valid_subjects = ['p075','p081']\n",
    "    if not os.path.exists(DRIVER_IMGS_PATH + \"valid\"):\n",
    "        os.mkdir(DRIVER_IMGS_PATH + \"valid\")\n",
    "        for i in range(10):\n",
    "            os.mkdir(DRIVER_IMGS_PATH + \"valid/c%d\"%i)\n",
    "    df = pd.read_csv(DRIVER_IMGS_LIST_CVS_DATE_FILE)\n",
    "    for valid_subject in valid_subjects:\n",
    "        df_valid = df[(df[\"subject\"]==valid_subject)]\n",
    "        for index, row in df_valid.iterrows():\n",
    "            subpath = row[\"classname\"] + \"/\" + row[\"img\"]\n",
    "            if os.path.exists(os.path.join(TRAIN_DIR,subpath)):\n",
    "                shutil.move(os.path.join(TRAIN_DIR,subpath), os.path.join(DRIVER_IMGS_PATH,\"valid/\",subpath),)   \n",
    "    print(\"valid dir is done\")\n",
    "read_cvs_files()"
   ]
  },
  {
   "cell_type": "markdown",
   "metadata": {
    "collapsed": true
   },
   "source": [
    "## 加载数据集"
   ]
  },
  {
   "cell_type": "code",
   "execution_count": 7,
   "metadata": {},
   "outputs": [
    {
     "name": "stdout",
     "output_type": "stream",
     "text": [
      "-------- loading train data\n",
      "loding ./distracted_driver_detection_dataset/imgs/train/c0, image count=2308\n",
      "loding ./distracted_driver_detection_dataset/imgs/train/c1, image count=2096\n",
      "loding ./distracted_driver_detection_dataset/imgs/train/c2, image count=2136\n",
      "loding ./distracted_driver_detection_dataset/imgs/train/c3, image count=2185\n",
      "loding ./distracted_driver_detection_dataset/imgs/train/c4, image count=2160\n",
      "loding ./distracted_driver_detection_dataset/imgs/train/c5, image count=2152\n",
      "loding ./distracted_driver_detection_dataset/imgs/train/c6, image count=2164\n",
      "loding ./distracted_driver_detection_dataset/imgs/train/c7, image count=1843\n",
      "loding ./distracted_driver_detection_dataset/imgs/train/c8, image count=1771\n",
      "loding ./distracted_driver_detection_dataset/imgs/train/c9, image count=1972\n",
      "-------- loading valid data\n",
      "loding ./distracted_driver_detection_dataset/valid\\c0, image count=181\n",
      "loding ./distracted_driver_detection_dataset/valid\\c1, image count=171\n",
      "loding ./distracted_driver_detection_dataset/valid\\c2, image count=181\n",
      "loding ./distracted_driver_detection_dataset/valid\\c3, image count=161\n",
      "loding ./distracted_driver_detection_dataset/valid\\c4, image count=166\n",
      "loding ./distracted_driver_detection_dataset/valid\\c5, image count=160\n",
      "loding ./distracted_driver_detection_dataset/valid\\c6, image count=161\n",
      "loding ./distracted_driver_detection_dataset/valid\\c7, image count=159\n",
      "loding ./distracted_driver_detection_dataset/valid\\c8, image count=140\n",
      "loding ./distracted_driver_detection_dataset/valid\\c9, image count=157\n"
     ]
    }
   ],
   "source": [
    "import glob\n",
    "import cv2\n",
    "model_image_size = 224\n",
    "\n",
    "print(\"-------- loading train data\")\n",
    "X_train = list()\n",
    "y_train = list()\n",
    "for i in range(10):\n",
    "    dir = os.path.join(TRAIN_DIR, \"c%d\"%i)\n",
    "    image_files = glob.glob(os.path.join(dir,\"*.jpg\"))\n",
    "    print(\"loding {}, image count={}\".format(dir, len(image_files)))\n",
    "    for image_file in image_files:\n",
    "        image = cv2.imread(image_file)\n",
    "        X_train.append(cv2.resize(image, (model_image_size, model_image_size)))\n",
    "        label = np.zeros(10, dtype=np.uint8)\n",
    "        label[i]=1\n",
    "        y_train.append(label)\n",
    "X_train = np.array(X_train)\n",
    "y_train = np.array(y_train)\n",
    "        \n",
    "print(\"-------- loading valid data\")\n",
    "X_valid = list()\n",
    "y_valid = list()\n",
    "for i in range(10):\n",
    "    dir = os.path.join(DRIVER_IMGS_PATH, \"valid/\", \"c%d\"%i)\n",
    "    image_files = glob.glob(os.path.join(dir,\"*.jpg\"))\n",
    "    print(\"loding {}, image count={}\".format(dir, len(image_files)))\n",
    "    for image_file in image_files:\n",
    "        image = cv2.imread(image_file)\n",
    "        X_valid.append(cv2.resize(image, (model_image_size, model_image_size)))\n",
    "        label = np.zeros(10, dtype=np.uint8)\n",
    "        label[i]=1\n",
    "        y_valid.append(label)\n",
    "X_valid = np.array(X_valid)\n",
    "y_valid = np.array(y_valid)"
   ]
  },
  {
   "cell_type": "code",
   "execution_count": 8,
   "metadata": {},
   "outputs": [
    {
     "name": "stdout",
     "output_type": "stream",
     "text": [
      "(20787, 224, 224, 3)\n",
      "(20787, 10)\n",
      "(1637, 224, 224, 3)\n",
      "(1637, 10)\n"
     ]
    }
   ],
   "source": [
    "print(X_train.shape)\n",
    "print(y_train.shape)\n",
    "print(X_valid.shape)\n",
    "print(y_valid.shape)"
   ]
  },
  {
   "cell_type": "code",
   "execution_count": 2,
   "metadata": {},
   "outputs": [
    {
     "name": "stderr",
     "output_type": "stream",
     "text": [
      "D:\\ProgramData\\Anaconda3\\lib\\site-packages\\h5py\\__init__.py:34: FutureWarning: Conversion of the second argument of issubdtype from `float` to `np.floating` is deprecated. In future, it will be treated as `np.float64 == np.dtype(float).type`.\n",
      "  from ._conv import register_converters as _register_converters\n",
      "Using TensorFlow backend.\n"
     ]
    },
    {
     "name": "stdout",
     "output_type": "stream",
     "text": [
      "Found 20787 images belonging to 10 classes.\n",
      "subdior to train type {'c0': 0, 'c1': 1, 'c2': 2, 'c3': 3, 'c4': 4, 'c5': 5, 'c6': 6, 'c7': 7, 'c8': 8, 'c9': 9}\n",
      "Found 1637 images belonging to 10 classes.\n",
      "subdior to valid type {'c0': 0, 'c1': 1, 'c2': 2, 'c3': 3, 'c4': 4, 'c5': 5, 'c6': 6, 'c7': 7, 'c8': 8, 'c9': 9}\n"
     ]
    }
   ],
   "source": [
    "from keras.models import *\n",
    "from keras.optimizers import *\n",
    "from keras.layers import *\n",
    "from keras.applications import *\n",
    "from keras.preprocessing.image import *\n",
    "\n",
    "model_image_size = (224, 224)\n",
    "fine_tune_layer = 18\n",
    "final_layer = 21\n",
    "visual_layer = 18\n",
    "batch_size = 64\n",
    "\n",
    "train_gen = ImageDataGenerator(\n",
    "    samplewise_std_normalization=False,\n",
    "    rotation_range=10.,\n",
    "    width_shift_range=0.05,\n",
    "    height_shift_range=0.05,\n",
    "    shear_range=0.1,\n",
    "    zoom_range=0.1,\n",
    ")\n",
    "gen = ImageDataGenerator(\n",
    "    samplewise_std_normalization=False,\n",
    ")\n",
    "\n",
    "train_generator = train_gen.flow_from_directory(TRAIN_DIR,  model_image_size, shuffle=True, batch_size=batch_size, class_mode=\"categorical\")\n",
    "print(\"subdior to train type {}\".format(train_generator.class_indices))\n",
    "valid_generator = gen.flow_from_directory(os.path.join(DRIVER_IMGS_PATH, 'valid'),  model_image_size, shuffle=True, batch_size=batch_size, class_mode=\"categorical\")\n",
    "print(\"subdior to valid type {}\".format(valid_generator.class_indices))"
   ]
  },
  {
   "cell_type": "markdown",
   "metadata": {},
   "source": [
    "## 构建模型"
   ]
  },
  {
   "cell_type": "code",
   "execution_count": 11,
   "metadata": {},
   "outputs": [
    {
     "name": "stdout",
     "output_type": "stream",
     "text": [
      "done\n"
     ]
    }
   ],
   "source": [
    "base_model = VGG16(input_tensor=Input((model_image_size, model_image_size, 3)), weights='imagenet', include_top=False)\n",
    "\n",
    "for layers in base_model.layers:\n",
    "    layers.trainable = False\n",
    "\n",
    "x = GlobalAveragePooling2D()(base_model.output)\n",
    "x = Dropout(0.25)(x)\n",
    "x = Dense(10, activation='softmax')(x)\n",
    "model = Model(base_model.input, x)\n",
    "model.compile(optimizer='adadelta', loss='binary_crossentropy', metrics=['accuracy'])\n",
    "\n",
    "#     model.compile(optimizer='adam', loss='sparse_categorical_crossentropy', metrics=['accuracy'])\n",
    "print(\"done\")"
   ]
  },
  {
   "cell_type": "code",
   "execution_count": null,
   "metadata": {},
   "outputs": [
    {
     "name": "stdout",
     "output_type": "stream",
     "text": [
      "Train on 20787 samples, validate on 1637 samples\n",
      "Epoch 1/10\n"
     ]
    },
    {
     "name": "stdout",
     "output_type": "stream",
     "text": [
      " 3088/20787 [===>..........................] - ETA: 27:57:48 - loss: 1.0265 - acc: 0.843 - ETA: 23:49:21 - loss: 1.2245 - acc: 0.843 - ETA: 18:54:54 - loss: 1.1095 - acc: 0.847 - ETA: 15:51:45 - loss: 1.2225 - acc: 0.839 - ETA: 13:54:59 - loss: 1.2175 - acc: 0.831 - ETA: 12:45:21 - loss: 1.1987 - acc: 0.835 - ETA: 11:47:58 - loss: 1.2338 - acc: 0.831 - ETA: 11:00:40 - loss: 1.1879 - acc: 0.835 - ETA: 10:22:49 - loss: 1.1952 - acc: 0.833 - ETA: 9:53:28 - loss: 1.2029 - acc: 0.831 - ETA: 9:29:10 - loss: 1.2199 - acc: 0.83 - ETA: 9:08:10 - loss: 1.2237 - acc: 0.83 - ETA: 8:51:07 - loss: 1.2195 - acc: 0.83 - ETA: 8:36:38 - loss: 1.1965 - acc: 0.83 - ETA: 8:23:23 - loss: 1.1967 - acc: 0.83 - ETA: 8:13:47 - loss: 1.1812 - acc: 0.83 - ETA: 8:03:27 - loss: 1.1824 - acc: 0.83 - ETA: 7:55:11 - loss: 1.1695 - acc: 0.83 - ETA: 7:49:05 - loss: 1.1662 - acc: 0.83 - ETA: 7:44:41 - loss: 1.1755 - acc: 0.83 - ETA: 7:38:57 - loss: 1.1675 - acc: 0.83 - ETA: 7:34:19 - loss: 1.1626 - acc: 0.83 - ETA: 7:28:47 - loss: 1.1636 - acc: 0.83 - ETA: 7:23:26 - loss: 1.1678 - acc: 0.83 - ETA: 7:18:21 - loss: 1.1687 - acc: 0.83 - ETA: 7:13:40 - loss: 1.1749 - acc: 0.83 - ETA: 7:09:08 - loss: 1.1673 - acc: 0.83 - ETA: 7:04:52 - loss: 1.1756 - acc: 0.83 - ETA: 7:01:02 - loss: 1.1819 - acc: 0.83 - ETA: 6:57:23 - loss: 1.1905 - acc: 0.83 - ETA: 6:53:59 - loss: 1.1756 - acc: 0.83 - ETA: 6:50:37 - loss: 1.1806 - acc: 0.83 - ETA: 6:47:28 - loss: 1.1760 - acc: 0.83 - ETA: 6:44:30 - loss: 1.1670 - acc: 0.83 - ETA: 6:41:43 - loss: 1.1713 - acc: 0.83 - ETA: 6:39:02 - loss: 1.1802 - acc: 0.83 - ETA: 6:36:31 - loss: 1.1794 - acc: 0.83 - ETA: 6:34:07 - loss: 1.1931 - acc: 0.83 - ETA: 6:32:08 - loss: 1.1952 - acc: 0.83 - ETA: 6:29:56 - loss: 1.1879 - acc: 0.83 - ETA: 6:27:52 - loss: 1.1834 - acc: 0.83 - ETA: 6:25:47 - loss: 1.1844 - acc: 0.83 - ETA: 6:23:50 - loss: 1.1845 - acc: 0.83 - ETA: 6:21:59 - loss: 1.1834 - acc: 0.83 - ETA: 6:20:15 - loss: 1.1844 - acc: 0.83 - ETA: 6:18:33 - loss: 1.1762 - acc: 0.83 - ETA: 6:16:55 - loss: 1.1839 - acc: 0.83 - ETA: 6:15:24 - loss: 1.1799 - acc: 0.83 - ETA: 6:13:54 - loss: 1.1846 - acc: 0.83 - ETA: 6:12:37 - loss: 1.1906 - acc: 0.83 - ETA: 6:11:22 - loss: 1.1874 - acc: 0.83 - ETA: 6:10:04 - loss: 1.1852 - acc: 0.83 - ETA: 6:09:03 - loss: 1.1837 - acc: 0.83 - ETA: 6:07:58 - loss: 1.1828 - acc: 0.83 - ETA: 6:06:45 - loss: 1.1839 - acc: 0.83 - ETA: 6:05:33 - loss: 1.1822 - acc: 0.83 - ETA: 6:04:27 - loss: 1.1795 - acc: 0.83 - ETA: 6:03:28 - loss: 1.1786 - acc: 0.83 - ETA: 6:02:19 - loss: 1.1766 - acc: 0.83 - ETA: 6:01:10 - loss: 1.1763 - acc: 0.83 - ETA: 6:00:04 - loss: 1.1738 - acc: 0.83 - ETA: 5:59:00 - loss: 1.1752 - acc: 0.83 - ETA: 5:57:58 - loss: 1.1737 - acc: 0.83 - ETA: 5:56:58 - loss: 1.1693 - acc: 0.83 - ETA: 5:55:59 - loss: 1.1661 - acc: 0.83 - ETA: 5:55:04 - loss: 1.1634 - acc: 0.83 - ETA: 5:54:07 - loss: 1.1596 - acc: 0.83 - ETA: 5:53:12 - loss: 1.1533 - acc: 0.83 - ETA: 5:52:39 - loss: 1.1518 - acc: 0.83 - ETA: 5:51:56 - loss: 1.1488 - acc: 0.83 - ETA: 5:51:20 - loss: 1.1468 - acc: 0.83 - ETA: 5:50:31 - loss: 1.1439 - acc: 0.83 - ETA: 5:49:43 - loss: 1.1433 - acc: 0.83 - ETA: 5:48:54 - loss: 1.1456 - acc: 0.83 - ETA: 5:48:04 - loss: 1.1435 - acc: 0.83 - ETA: 5:47:15 - loss: 1.1431 - acc: 0.83 - ETA: 5:46:30 - loss: 1.1395 - acc: 0.83 - ETA: 5:45:46 - loss: 1.1377 - acc: 0.83 - ETA: 5:45:00 - loss: 1.1399 - acc: 0.83 - ETA: 5:44:15 - loss: 1.1376 - acc: 0.83 - ETA: 5:43:34 - loss: 1.1318 - acc: 0.83 - ETA: 5:42:53 - loss: 1.1302 - acc: 0.83 - ETA: 5:42:12 - loss: 1.1304 - acc: 0.83 - ETA: 5:41:29 - loss: 1.1287 - acc: 0.83 - ETA: 5:40:50 - loss: 1.1254 - acc: 0.83 - ETA: 5:40:10 - loss: 1.1245 - acc: 0.83 - ETA: 5:39:30 - loss: 1.1208 - acc: 0.83 - ETA: 5:38:53 - loss: 1.1198 - acc: 0.83 - ETA: 5:38:16 - loss: 1.1209 - acc: 0.83 - ETA: 5:37:42 - loss: 1.1177 - acc: 0.83 - ETA: 5:37:06 - loss: 1.1175 - acc: 0.83 - ETA: 5:36:32 - loss: 1.1164 - acc: 0.83 - ETA: 5:35:55 - loss: 1.1152 - acc: 0.83 - ETA: 5:35:19 - loss: 1.1115 - acc: 0.83 - ETA: 5:34:43 - loss: 1.1126 - acc: 0.83 - ETA: 5:34:08 - loss: 1.1108 - acc: 0.83 - ETA: 5:33:34 - loss: 1.1109 - acc: 0.83 - ETA: 5:33:00 - loss: 1.1120 - acc: 0.83 - ETA: 5:32:25 - loss: 1.1088 - acc: 0.83 - ETA: 5:31:50 - loss: 1.1082 - acc: 0.83 - ETA: 5:31:16 - loss: 1.1040 - acc: 0.83 - ETA: 5:30:42 - loss: 1.1020 - acc: 0.83 - ETA: 5:30:10 - loss: 1.1006 - acc: 0.83 - ETA: 5:29:41 - loss: 1.0994 - acc: 0.83 - ETA: 5:29:08 - loss: 1.0992 - acc: 0.83 - ETA: 5:28:39 - loss: 1.0970 - acc: 0.83 - ETA: 5:28:07 - loss: 1.0935 - acc: 0.83 - ETA: 5:27:36 - loss: 1.0940 - acc: 0.83 - ETA: 5:27:05 - loss: 1.0940 - acc: 0.83 - ETA: 5:26:38 - loss: 1.0957 - acc: 0.83 - ETA: 5:26:09 - loss: 1.0953 - acc: 0.83 - ETA: 5:25:39 - loss: 1.0962 - acc: 0.83 - ETA: 5:25:12 - loss: 1.0949 - acc: 0.83 - ETA: 5:24:43 - loss: 1.0994 - acc: 0.83 - ETA: 5:24:14 - loss: 1.0970 - acc: 0.83 - ETA: 5:23:48 - loss: 1.0945 - acc: 0.83 - ETA: 5:23:18 - loss: 1.0928 - acc: 0.83 - ETA: 5:22:50 - loss: 1.0913 - acc: 0.83 - ETA: 5:22:23 - loss: 1.0882 - acc: 0.83 - ETA: 5:21:54 - loss: 1.0891 - acc: 0.83 - ETA: 5:21:25 - loss: 1.0875 - acc: 0.83 - ETA: 5:20:58 - loss: 1.0842 - acc: 0.83 - ETA: 5:20:31 - loss: 1.0830 - acc: 0.83 - ETA: 5:20:04 - loss: 1.0831 - acc: 0.83 - ETA: 5:19:36 - loss: 1.0825 - acc: 0.83 - ETA: 5:19:08 - loss: 1.0796 - acc: 0.83 - ETA: 5:18:41 - loss: 1.0777 - acc: 0.83 - ETA: 5:18:14 - loss: 1.0752 - acc: 0.83 - ETA: 5:17:47 - loss: 1.0727 - acc: 0.83 - ETA: 5:17:22 - loss: 1.0702 - acc: 0.83 - ETA: 5:16:57 - loss: 1.0683 - acc: 0.83 - ETA: 5:16:32 - loss: 1.0673 - acc: 0.83 - ETA: 5:16:07 - loss: 1.0659 - acc: 0.83 - ETA: 5:15:43 - loss: 1.0621 - acc: 0.83 - ETA: 5:15:20 - loss: 1.0627 - acc: 0.83 - ETA: 5:14:56 - loss: 1.0621 - acc: 0.83 - ETA: 5:14:33 - loss: 1.0616 - acc: 0.83 - ETA: 5:14:08 - loss: 1.0599 - acc: 0.83 - ETA: 5:13:44 - loss: 1.0582 - acc: 0.83 - ETA: 5:13:19 - loss: 1.0579 - acc: 0.83 - ETA: 5:12:53 - loss: 1.0571 - acc: 0.83 - ETA: 5:12:28 - loss: 1.0557 - acc: 0.83 - ETA: 5:12:05 - loss: 1.0543 - acc: 0.83 - ETA: 5:11:42 - loss: 1.0522 - acc: 0.83 - ETA: 5:11:19 - loss: 1.0497 - acc: 0.83 - ETA: 5:10:57 - loss: 1.0476 - acc: 0.83 - ETA: 5:10:33 - loss: 1.0459 - acc: 0.83 - ETA: 5:10:09 - loss: 1.0422 - acc: 0.83 - ETA: 5:09:45 - loss: 1.0394 - acc: 0.83 - ETA: 5:09:23 - loss: 1.0385 - acc: 0.83 - ETA: 5:09:00 - loss: 1.0361 - acc: 0.83 - ETA: 5:08:37 - loss: 1.0366 - acc: 0.83 - ETA: 5:08:14 - loss: 1.0380 - acc: 0.83 - ETA: 5:07:53 - loss: 1.0357 - acc: 0.83 - ETA: 5:07:30 - loss: 1.0332 - acc: 0.83 - ETA: 5:07:07 - loss: 1.0324 - acc: 0.83 - ETA: 5:06:47 - loss: 1.0308 - acc: 0.83 - ETA: 5:06:25 - loss: 1.0306 - acc: 0.83 - ETA: 5:06:02 - loss: 1.0291 - acc: 0.83 - ETA: 5:05:40 - loss: 1.0287 - acc: 0.83 - ETA: 5:05:19 - loss: 1.0274 - acc: 0.83 - ETA: 5:04:57 - loss: 1.0276 - acc: 0.83 - ETA: 5:04:34 - loss: 1.0264 - acc: 0.83 - ETA: 5:04:13 - loss: 1.0258 - acc: 0.83 - ETA: 5:03:52 - loss: 1.0246 - acc: 0.83 - ETA: 5:03:30 - loss: 1.0222 - acc: 0.83 - ETA: 5:03:10 - loss: 1.0214 - acc: 0.83 - ETA: 5:02:48 - loss: 1.0200 - acc: 0.83 - ETA: 5:02:28 - loss: 1.0200 - acc: 0.83 - ETA: 5:02:07 - loss: 1.0196 - acc: 0.83 - ETA: 5:01:45 - loss: 1.0185 - acc: 0.83 - ETA: 5:01:25 - loss: 1.0173 - acc: 0.83 - ETA: 5:01:04 - loss: 1.0169 - acc: 0.83 - ETA: 5:00:43 - loss: 1.0165 - acc: 0.83 - ETA: 5:00:24 - loss: 1.0154 - acc: 0.83 - ETA: 5:00:03 - loss: 1.0131 - acc: 0.83 - ETA: 4:59:43 - loss: 1.0125 - acc: 0.83 - ETA: 4:59:23 - loss: 1.0114 - acc: 0.83 - ETA: 4:59:03 - loss: 1.0086 - acc: 0.83 - ETA: 4:58:42 - loss: 1.0073 - acc: 0.83 - ETA: 4:58:21 - loss: 1.0054 - acc: 0.83 - ETA: 4:58:00 - loss: 1.0046 - acc: 0.83 - ETA: 4:57:40 - loss: 1.0026 - acc: 0.83 - ETA: 4:57:21 - loss: 1.0018 - acc: 0.83 - ETA: 4:57:01 - loss: 1.0011 - acc: 0.84 - ETA: 4:56:40 - loss: 1.0004 - acc: 0.84 - ETA: 4:56:20 - loss: 1.0008 - acc: 0.83 - ETA: 4:55:59 - loss: 0.9982 - acc: 0.84 - ETA: 4:55:40 - loss: 0.9970 - acc: 0.84 - ETA: 4:55:20 - loss: 0.9943 - acc: 0.84 - ETA: 4:55:00 - loss: 0.9943 - acc: 0.84 - ETA: 4:54:39 - loss: 0.9918 - acc: 0.84 - ETA: 4:54:19 - loss: 0.9898 - acc: 0.8405\b\b\b\b\b\b\b\b\b\b\b\b\b\b\b\b\b\b\b\b\b\b\b\b\b\b\b\b\b\b\b\b\b\b\b\b\b\b\b\b\b\b\b\b\b\b\b\b\b\b\b\b\b\b\b\b\b\b\b\b\b\b\b\b\b\b\b\b\b\b\b\b\b\b\b\b\b\b\b\b\b\b\b\b\b\b\b\b"
     ]
    },
    {
     "name": "stdout",
     "output_type": "stream",
     "text": [
      " 6192/20787 [=======>......................] - ETA: 4:54:00 - loss: 0.9890 - acc: 0.84 - ETA: 4:53:42 - loss: 0.9857 - acc: 0.84 - ETA: 4:53:24 - loss: 0.9821 - acc: 0.84 - ETA: 4:53:08 - loss: 0.9798 - acc: 0.84 - ETA: 4:52:48 - loss: 0.9783 - acc: 0.84 - ETA: 4:52:30 - loss: 0.9777 - acc: 0.84 - ETA: 4:52:10 - loss: 0.9771 - acc: 0.84 - ETA: 4:51:51 - loss: 0.9748 - acc: 0.84 - ETA: 4:51:33 - loss: 0.9736 - acc: 0.84 - ETA: 4:51:14 - loss: 0.9709 - acc: 0.84 - ETA: 4:50:56 - loss: 0.9707 - acc: 0.84 - ETA: 4:50:36 - loss: 0.9698 - acc: 0.84 - ETA: 4:50:18 - loss: 0.9702 - acc: 0.84 - ETA: 4:50:00 - loss: 0.9688 - acc: 0.84 - ETA: 4:49:44 - loss: 0.9685 - acc: 0.84 - ETA: 4:49:24 - loss: 0.9669 - acc: 0.84 - ETA: 4:49:05 - loss: 0.9652 - acc: 0.84 - ETA: 4:48:46 - loss: 0.9667 - acc: 0.84 - ETA: 4:48:29 - loss: 0.9656 - acc: 0.84 - ETA: 4:48:12 - loss: 0.9646 - acc: 0.84 - ETA: 4:47:54 - loss: 0.9633 - acc: 0.84 - ETA: 4:47:34 - loss: 0.9631 - acc: 0.84 - ETA: 4:47:16 - loss: 0.9633 - acc: 0.84 - ETA: 4:46:58 - loss: 0.9623 - acc: 0.84 - ETA: 4:46:40 - loss: 0.9613 - acc: 0.84 - ETA: 4:46:21 - loss: 0.9587 - acc: 0.84 - ETA: 4:46:02 - loss: 0.9571 - acc: 0.84 - ETA: 4:45:44 - loss: 0.9567 - acc: 0.84 - ETA: 4:45:27 - loss: 0.9559 - acc: 0.84 - ETA: 4:45:09 - loss: 0.9555 - acc: 0.84 - ETA: 4:44:50 - loss: 0.9529 - acc: 0.84 - ETA: 4:44:33 - loss: 0.9511 - acc: 0.84 - ETA: 4:44:16 - loss: 0.9493 - acc: 0.84 - ETA: 4:43:58 - loss: 0.9489 - acc: 0.84 - ETA: 4:43:39 - loss: 0.9473 - acc: 0.84 - ETA: 4:43:21 - loss: 0.9471 - acc: 0.84 - ETA: 4:43:03 - loss: 0.9449 - acc: 0.84 - ETA: 4:42:44 - loss: 0.9437 - acc: 0.84 - ETA: 4:42:25 - loss: 0.9424 - acc: 0.84 - ETA: 4:42:06 - loss: 0.9413 - acc: 0.84 - ETA: 4:41:47 - loss: 0.9405 - acc: 0.84 - ETA: 4:41:28 - loss: 0.9394 - acc: 0.84 - ETA: 4:41:11 - loss: 0.9383 - acc: 0.84 - ETA: 4:40:53 - loss: 0.9371 - acc: 0.84 - ETA: 4:40:36 - loss: 0.9355 - acc: 0.84 - ETA: 4:40:19 - loss: 0.9338 - acc: 0.84 - ETA: 4:40:00 - loss: 0.9337 - acc: 0.84 - ETA: 4:39:42 - loss: 0.9327 - acc: 0.84 - ETA: 4:39:26 - loss: 0.9302 - acc: 0.84 - ETA: 4:39:07 - loss: 0.9289 - acc: 0.84 - ETA: 4:38:50 - loss: 0.9285 - acc: 0.84 - ETA: 4:38:31 - loss: 0.9280 - acc: 0.84 - ETA: 4:38:12 - loss: 0.9271 - acc: 0.84 - ETA: 4:37:54 - loss: 0.9259 - acc: 0.84 - ETA: 4:37:36 - loss: 0.9245 - acc: 0.84 - ETA: 4:37:18 - loss: 0.9233 - acc: 0.84 - ETA: 4:37:01 - loss: 0.9215 - acc: 0.84 - ETA: 4:36:42 - loss: 0.9210 - acc: 0.84 - ETA: 4:36:24 - loss: 0.9196 - acc: 0.84 - ETA: 4:36:07 - loss: 0.9179 - acc: 0.84 - ETA: 4:35:50 - loss: 0.9165 - acc: 0.84 - ETA: 4:35:33 - loss: 0.9145 - acc: 0.84 - ETA: 4:35:17 - loss: 0.9134 - acc: 0.84 - ETA: 4:35:00 - loss: 0.9134 - acc: 0.84 - ETA: 4:34:43 - loss: 0.9116 - acc: 0.84 - ETA: 4:34:26 - loss: 0.9106 - acc: 0.84 - ETA: 4:34:08 - loss: 0.9102 - acc: 0.84 - ETA: 4:33:51 - loss: 0.9088 - acc: 0.84 - ETA: 4:33:34 - loss: 0.9080 - acc: 0.84 - ETA: 4:33:16 - loss: 0.9073 - acc: 0.84 - ETA: 4:32:58 - loss: 0.9058 - acc: 0.84 - ETA: 4:32:40 - loss: 0.9042 - acc: 0.84 - ETA: 4:32:22 - loss: 0.9039 - acc: 0.84 - ETA: 4:32:05 - loss: 0.9028 - acc: 0.84 - ETA: 4:31:49 - loss: 0.9023 - acc: 0.84 - ETA: 4:31:31 - loss: 0.9005 - acc: 0.84 - ETA: 4:31:14 - loss: 0.8989 - acc: 0.84 - ETA: 4:30:58 - loss: 0.8972 - acc: 0.84 - ETA: 4:30:41 - loss: 0.8960 - acc: 0.84 - ETA: 4:30:23 - loss: 0.8948 - acc: 0.84 - ETA: 4:30:06 - loss: 0.8949 - acc: 0.84 - ETA: 4:29:49 - loss: 0.8933 - acc: 0.84 - ETA: 4:29:34 - loss: 0.8919 - acc: 0.84 - ETA: 4:29:20 - loss: 0.8910 - acc: 0.84 - ETA: 4:29:03 - loss: 0.8897 - acc: 0.84 - ETA: 4:28:45 - loss: 0.8878 - acc: 0.84 - ETA: 4:28:29 - loss: 0.8869 - acc: 0.84 - ETA: 4:28:12 - loss: 0.8867 - acc: 0.84 - ETA: 4:27:55 - loss: 0.8858 - acc: 0.84 - ETA: 4:27:37 - loss: 0.8840 - acc: 0.84 - ETA: 4:27:21 - loss: 0.8833 - acc: 0.84 - ETA: 4:27:03 - loss: 0.8817 - acc: 0.84 - ETA: 4:26:46 - loss: 0.8808 - acc: 0.84 - ETA: 4:26:30 - loss: 0.8798 - acc: 0.84 - ETA: 4:26:12 - loss: 0.8791 - acc: 0.84 - ETA: 4:25:56 - loss: 0.8773 - acc: 0.84 - ETA: 4:25:39 - loss: 0.8761 - acc: 0.84 - ETA: 4:25:22 - loss: 0.8749 - acc: 0.84 - ETA: 4:25:07 - loss: 0.8742 - acc: 0.84 - ETA: 4:24:50 - loss: 0.8732 - acc: 0.84 - ETA: 4:24:33 - loss: 0.8730 - acc: 0.84 - ETA: 4:24:16 - loss: 0.8723 - acc: 0.84 - ETA: 4:23:58 - loss: 0.8719 - acc: 0.84 - ETA: 4:23:40 - loss: 0.8711 - acc: 0.85 - ETA: 4:23:22 - loss: 0.8693 - acc: 0.85 - ETA: 4:23:05 - loss: 0.8688 - acc: 0.85 - ETA: 4:22:47 - loss: 0.8676 - acc: 0.85 - ETA: 4:22:30 - loss: 0.8673 - acc: 0.85 - ETA: 4:22:13 - loss: 0.8666 - acc: 0.85 - ETA: 4:21:55 - loss: 0.8664 - acc: 0.85 - ETA: 4:21:38 - loss: 0.8652 - acc: 0.85 - ETA: 4:21:21 - loss: 0.8643 - acc: 0.85 - ETA: 4:21:04 - loss: 0.8636 - acc: 0.85 - ETA: 4:20:47 - loss: 0.8634 - acc: 0.85 - ETA: 4:20:30 - loss: 0.8625 - acc: 0.85 - ETA: 4:20:13 - loss: 0.8620 - acc: 0.85 - ETA: 4:19:55 - loss: 0.8613 - acc: 0.85 - ETA: 4:19:39 - loss: 0.8609 - acc: 0.85 - ETA: 4:19:23 - loss: 0.8597 - acc: 0.85 - ETA: 4:19:06 - loss: 0.8585 - acc: 0.85 - ETA: 4:18:49 - loss: 0.8577 - acc: 0.85 - ETA: 4:18:32 - loss: 0.8564 - acc: 0.85 - ETA: 4:18:15 - loss: 0.8550 - acc: 0.85 - ETA: 4:17:58 - loss: 0.8542 - acc: 0.85 - ETA: 4:17:42 - loss: 0.8527 - acc: 0.85 - ETA: 4:17:25 - loss: 0.8513 - acc: 0.85 - ETA: 4:17:15 - loss: 0.8506 - acc: 0.85 - ETA: 4:16:57 - loss: 0.8504 - acc: 0.85 - ETA: 4:16:41 - loss: 0.8495 - acc: 0.85 - ETA: 4:16:24 - loss: 0.8480 - acc: 0.85 - ETA: 4:16:08 - loss: 0.8471 - acc: 0.85 - ETA: 4:15:52 - loss: 0.8463 - acc: 0.85 - ETA: 4:15:35 - loss: 0.8449 - acc: 0.85 - ETA: 4:15:19 - loss: 0.8438 - acc: 0.85 - ETA: 4:15:03 - loss: 0.8445 - acc: 0.85 - ETA: 4:14:47 - loss: 0.8433 - acc: 0.85 - ETA: 4:14:31 - loss: 0.8425 - acc: 0.85 - ETA: 4:14:15 - loss: 0.8419 - acc: 0.85 - ETA: 4:13:59 - loss: 0.8407 - acc: 0.85 - ETA: 4:13:42 - loss: 0.8396 - acc: 0.85 - ETA: 4:13:26 - loss: 0.8382 - acc: 0.85 - ETA: 4:13:09 - loss: 0.8379 - acc: 0.85 - ETA: 4:12:53 - loss: 0.8376 - acc: 0.85 - ETA: 4:12:36 - loss: 0.8369 - acc: 0.85 - ETA: 4:12:20 - loss: 0.8365 - acc: 0.85 - ETA: 4:12:04 - loss: 0.8353 - acc: 0.85 - ETA: 4:11:48 - loss: 0.8349 - acc: 0.85 - ETA: 4:11:32 - loss: 0.8340 - acc: 0.85 - ETA: 4:11:18 - loss: 0.8331 - acc: 0.85 - ETA: 4:11:01 - loss: 0.8328 - acc: 0.85 - ETA: 4:10:48 - loss: 0.8323 - acc: 0.85 - ETA: 4:10:33 - loss: 0.8315 - acc: 0.85 - ETA: 4:10:17 - loss: 0.8302 - acc: 0.85 - ETA: 4:10:00 - loss: 0.8291 - acc: 0.85 - ETA: 4:09:44 - loss: 0.8285 - acc: 0.85 - ETA: 4:09:27 - loss: 0.8277 - acc: 0.85 - ETA: 4:09:10 - loss: 0.8267 - acc: 0.85 - ETA: 4:08:54 - loss: 0.8258 - acc: 0.85 - ETA: 4:08:38 - loss: 0.8246 - acc: 0.85 - ETA: 4:08:21 - loss: 0.8244 - acc: 0.85 - ETA: 4:08:10 - loss: 0.8236 - acc: 0.85 - ETA: 4:07:54 - loss: 0.8223 - acc: 0.85 - ETA: 4:07:38 - loss: 0.8221 - acc: 0.85 - ETA: 4:07:21 - loss: 0.8212 - acc: 0.85 - ETA: 4:07:05 - loss: 0.8218 - acc: 0.85 - ETA: 4:06:48 - loss: 0.8206 - acc: 0.85 - ETA: 4:06:32 - loss: 0.8197 - acc: 0.85 - ETA: 4:06:15 - loss: 0.8186 - acc: 0.85 - ETA: 4:05:58 - loss: 0.8183 - acc: 0.85 - ETA: 4:05:42 - loss: 0.8183 - acc: 0.85 - ETA: 4:05:25 - loss: 0.8178 - acc: 0.85 - ETA: 4:05:08 - loss: 0.8174 - acc: 0.85 - ETA: 4:04:51 - loss: 0.8167 - acc: 0.85 - ETA: 4:04:35 - loss: 0.8163 - acc: 0.85 - ETA: 4:04:18 - loss: 0.8148 - acc: 0.85 - ETA: 4:04:02 - loss: 0.8141 - acc: 0.85 - ETA: 4:03:45 - loss: 0.8131 - acc: 0.85 - ETA: 4:03:30 - loss: 0.8121 - acc: 0.85 - ETA: 4:03:14 - loss: 0.8112 - acc: 0.85 - ETA: 4:02:57 - loss: 0.8107 - acc: 0.85 - ETA: 4:02:40 - loss: 0.8098 - acc: 0.85 - ETA: 4:02:23 - loss: 0.8098 - acc: 0.85 - ETA: 4:02:06 - loss: 0.8094 - acc: 0.85 - ETA: 4:01:50 - loss: 0.8088 - acc: 0.85 - ETA: 4:01:33 - loss: 0.8077 - acc: 0.85 - ETA: 4:01:17 - loss: 0.8072 - acc: 0.85 - ETA: 4:01:02 - loss: 0.8067 - acc: 0.85 - ETA: 4:00:46 - loss: 0.8055 - acc: 0.85 - ETA: 4:00:29 - loss: 0.8050 - acc: 0.85 - ETA: 4:00:13 - loss: 0.8039 - acc: 0.85 - ETA: 3:59:56 - loss: 0.8030 - acc: 0.85 - ETA: 3:59:40 - loss: 0.8022 - acc: 0.85 - ETA: 3:59:23 - loss: 0.8018 - acc: 0.85 - ETA: 3:59:07 - loss: 0.8013 - acc: 0.8565"
     ]
    },
    {
     "name": "stdout",
     "output_type": "stream",
     "text": [
      " 9296/20787 [============>.................] - ETA: 3:58:50 - loss: 0.8000 - acc: 0.85 - ETA: 3:58:34 - loss: 0.7989 - acc: 0.85 - ETA: 3:58:18 - loss: 0.7975 - acc: 0.85 - ETA: 3:58:01 - loss: 0.7966 - acc: 0.85 - ETA: 3:57:45 - loss: 0.7960 - acc: 0.85 - ETA: 3:57:28 - loss: 0.7951 - acc: 0.85 - ETA: 3:57:11 - loss: 0.7942 - acc: 0.85 - ETA: 3:56:55 - loss: 0.7937 - acc: 0.85 - ETA: 3:56:38 - loss: 0.7932 - acc: 0.85 - ETA: 3:56:21 - loss: 0.7925 - acc: 0.85 - ETA: 3:56:05 - loss: 0.7916 - acc: 0.85 - ETA: 3:55:49 - loss: 0.7906 - acc: 0.85 - ETA: 3:55:32 - loss: 0.7899 - acc: 0.85 - ETA: 3:55:15 - loss: 0.7890 - acc: 0.85 - ETA: 3:54:59 - loss: 0.7888 - acc: 0.85 - ETA: 3:54:42 - loss: 0.7883 - acc: 0.85 - ETA: 3:54:26 - loss: 0.7876 - acc: 0.85 - ETA: 3:54:10 - loss: 0.7870 - acc: 0.85 - ETA: 3:53:54 - loss: 0.7863 - acc: 0.85 - ETA: 3:53:38 - loss: 0.7856 - acc: 0.85 - ETA: 3:53:21 - loss: 0.7856 - acc: 0.85 - ETA: 3:53:05 - loss: 0.7848 - acc: 0.85 - ETA: 3:52:49 - loss: 0.7845 - acc: 0.85 - ETA: 3:52:33 - loss: 0.7836 - acc: 0.85 - ETA: 3:52:16 - loss: 0.7830 - acc: 0.85 - ETA: 3:52:00 - loss: 0.7825 - acc: 0.85 - ETA: 3:51:43 - loss: 0.7820 - acc: 0.85 - ETA: 3:51:27 - loss: 0.7816 - acc: 0.85 - ETA: 3:51:11 - loss: 0.7809 - acc: 0.85 - ETA: 3:50:54 - loss: 0.7799 - acc: 0.85 - ETA: 3:50:38 - loss: 0.7786 - acc: 0.85 - ETA: 3:50:22 - loss: 0.7779 - acc: 0.85 - ETA: 3:50:06 - loss: 0.7778 - acc: 0.85 - ETA: 3:49:49 - loss: 0.7767 - acc: 0.85 - ETA: 3:49:33 - loss: 0.7765 - acc: 0.85 - ETA: 3:49:17 - loss: 0.7754 - acc: 0.85 - ETA: 3:49:01 - loss: 0.7748 - acc: 0.85 - ETA: 3:48:44 - loss: 0.7743 - acc: 0.85 - ETA: 3:48:28 - loss: 0.7735 - acc: 0.85 - ETA: 3:48:12 - loss: 0.7729 - acc: 0.85 - ETA: 3:47:56 - loss: 0.7727 - acc: 0.85 - ETA: 3:47:40 - loss: 0.7720 - acc: 0.85 - ETA: 3:47:24 - loss: 0.7712 - acc: 0.85 - ETA: 3:47:09 - loss: 0.7709 - acc: 0.85 - ETA: 3:46:53 - loss: 0.7704 - acc: 0.85 - ETA: 3:46:39 - loss: 0.7697 - acc: 0.85 - ETA: 3:46:23 - loss: 0.7694 - acc: 0.85 - ETA: 3:46:08 - loss: 0.7691 - acc: 0.85 - ETA: 3:45:53 - loss: 0.7684 - acc: 0.85 - ETA: 3:45:37 - loss: 0.7683 - acc: 0.85 - ETA: 3:45:21 - loss: 0.7675 - acc: 0.85 - ETA: 3:45:05 - loss: 0.7668 - acc: 0.85 - ETA: 3:44:49 - loss: 0.7663 - acc: 0.85 - ETA: 3:44:33 - loss: 0.7656 - acc: 0.85 - ETA: 3:44:17 - loss: 0.7652 - acc: 0.85 - ETA: 3:44:01 - loss: 0.7642 - acc: 0.85 - ETA: 3:43:45 - loss: 0.7638 - acc: 0.85 - ETA: 3:43:29 - loss: 0.7629 - acc: 0.85 - ETA: 3:43:15 - loss: 0.7621 - acc: 0.85 - ETA: 3:42:59 - loss: 0.7614 - acc: 0.85 - ETA: 3:42:42 - loss: 0.7610 - acc: 0.85 - ETA: 3:42:27 - loss: 0.7604 - acc: 0.85 - ETA: 3:42:11 - loss: 0.7598 - acc: 0.85 - ETA: 3:41:55 - loss: 0.7589 - acc: 0.85 - ETA: 3:41:38 - loss: 0.7585 - acc: 0.85 - ETA: 3:41:22 - loss: 0.7580 - acc: 0.85 - ETA: 3:41:06 - loss: 0.7569 - acc: 0.85 - ETA: 3:40:50 - loss: 0.7562 - acc: 0.86 - ETA: 3:40:34 - loss: 0.7560 - acc: 0.86 - ETA: 3:40:18 - loss: 0.7551 - acc: 0.86 - ETA: 3:40:02 - loss: 0.7546 - acc: 0.86 - ETA: 3:39:46 - loss: 0.7541 - acc: 0.86 - ETA: 3:39:31 - loss: 0.7533 - acc: 0.86 - ETA: 3:39:15 - loss: 0.7527 - acc: 0.86 - ETA: 3:38:59 - loss: 0.7518 - acc: 0.86 - ETA: 3:38:43 - loss: 0.7512 - acc: 0.86 - ETA: 3:38:27 - loss: 0.7512 - acc: 0.86 - ETA: 3:38:10 - loss: 0.7506 - acc: 0.86 - ETA: 3:37:54 - loss: 0.7498 - acc: 0.86 - ETA: 3:37:38 - loss: 0.7493 - acc: 0.86 - ETA: 3:37:22 - loss: 0.7481 - acc: 0.86 - ETA: 3:37:06 - loss: 0.7482 - acc: 0.86 - ETA: 3:36:51 - loss: 0.7473 - acc: 0.86 - ETA: 3:36:35 - loss: 0.7466 - acc: 0.86 - ETA: 3:36:19 - loss: 0.7464 - acc: 0.86 - ETA: 3:36:03 - loss: 0.7460 - acc: 0.86 - ETA: 3:35:48 - loss: 0.7453 - acc: 0.86 - ETA: 3:35:32 - loss: 0.7446 - acc: 0.86 - ETA: 3:35:16 - loss: 0.7439 - acc: 0.86 - ETA: 3:35:01 - loss: 0.7435 - acc: 0.86 - ETA: 3:34:45 - loss: 0.7428 - acc: 0.86 - ETA: 3:34:29 - loss: 0.7425 - acc: 0.86 - ETA: 3:34:14 - loss: 0.7415 - acc: 0.86 - ETA: 3:33:58 - loss: 0.7414 - acc: 0.86 - ETA: 3:33:43 - loss: 0.7408 - acc: 0.86 - ETA: 3:33:27 - loss: 0.7399 - acc: 0.86 - ETA: 3:33:11 - loss: 0.7391 - acc: 0.86 - ETA: 3:32:55 - loss: 0.7385 - acc: 0.86 - ETA: 3:32:39 - loss: 0.7376 - acc: 0.86 - ETA: 3:32:23 - loss: 0.7366 - acc: 0.86 - ETA: 3:32:08 - loss: 0.7360 - acc: 0.86 - ETA: 3:31:52 - loss: 0.7358 - acc: 0.86 - ETA: 3:31:36 - loss: 0.7358 - acc: 0.86 - ETA: 3:31:21 - loss: 0.7355 - acc: 0.86 - ETA: 3:31:05 - loss: 0.7348 - acc: 0.86 - ETA: 3:30:49 - loss: 0.7340 - acc: 0.86 - ETA: 3:30:33 - loss: 0.7332 - acc: 0.86 - ETA: 3:30:18 - loss: 0.7326 - acc: 0.86 - ETA: 3:30:02 - loss: 0.7320 - acc: 0.86 - ETA: 3:29:46 - loss: 0.7315 - acc: 0.86 - ETA: 3:29:31 - loss: 0.7309 - acc: 0.86 - ETA: 3:29:15 - loss: 0.7301 - acc: 0.86 - ETA: 3:29:00 - loss: 0.7294 - acc: 0.86 - ETA: 3:28:44 - loss: 0.7290 - acc: 0.86 - ETA: 3:28:27 - loss: 0.7289 - acc: 0.86 - ETA: 3:28:11 - loss: 0.7279 - acc: 0.86 - ETA: 3:27:56 - loss: 0.7273 - acc: 0.86 - ETA: 3:27:41 - loss: 0.7266 - acc: 0.86 - ETA: 3:27:25 - loss: 0.7265 - acc: 0.86 - ETA: 3:27:09 - loss: 0.7257 - acc: 0.86 - ETA: 3:26:53 - loss: 0.7252 - acc: 0.86 - ETA: 3:26:36 - loss: 0.7251 - acc: 0.86 - ETA: 3:26:20 - loss: 0.7241 - acc: 0.86 - ETA: 3:26:05 - loss: 0.7236 - acc: 0.86 - ETA: 3:25:49 - loss: 0.7232 - acc: 0.86 - ETA: 3:25:33 - loss: 0.7227 - acc: 0.86 - ETA: 3:25:17 - loss: 0.7220 - acc: 0.86 - ETA: 3:25:01 - loss: 0.7213 - acc: 0.86 - ETA: 3:24:45 - loss: 0.7207 - acc: 0.86 - ETA: 3:24:29 - loss: 0.7203 - acc: 0.86 - ETA: 3:24:13 - loss: 0.7198 - acc: 0.86 - ETA: 3:23:57 - loss: 0.7193 - acc: 0.86 - ETA: 3:23:41 - loss: 0.7187 - acc: 0.86 - ETA: 3:23:25 - loss: 0.7178 - acc: 0.86 - ETA: 3:23:08 - loss: 0.7177 - acc: 0.86 - ETA: 3:22:52 - loss: 0.7172 - acc: 0.86 - ETA: 3:22:36 - loss: 0.7170 - acc: 0.86 - ETA: 3:22:20 - loss: 0.7165 - acc: 0.86 - ETA: 3:22:04 - loss: 0.7156 - acc: 0.86 - ETA: 3:21:48 - loss: 0.7153 - acc: 0.86 - ETA: 3:21:32 - loss: 0.7148 - acc: 0.86 - ETA: 3:21:16 - loss: 0.7144 - acc: 0.86 - ETA: 3:21:00 - loss: 0.7137 - acc: 0.86 - ETA: 3:20:44 - loss: 0.7129 - acc: 0.86 - ETA: 3:20:28 - loss: 0.7122 - acc: 0.86 - ETA: 3:20:12 - loss: 0.7116 - acc: 0.86 - ETA: 3:19:56 - loss: 0.7110 - acc: 0.86 - ETA: 3:19:40 - loss: 0.7100 - acc: 0.86 - ETA: 3:19:24 - loss: 0.7094 - acc: 0.86 - ETA: 3:19:08 - loss: 0.7091 - acc: 0.86 - ETA: 3:18:52 - loss: 0.7083 - acc: 0.86 - ETA: 3:18:36 - loss: 0.7077 - acc: 0.86 - ETA: 3:18:20 - loss: 0.7070 - acc: 0.86 - ETA: 3:18:04 - loss: 0.7066 - acc: 0.86 - ETA: 3:17:49 - loss: 0.7059 - acc: 0.86 - ETA: 3:17:32 - loss: 0.7060 - acc: 0.86 - ETA: 3:17:17 - loss: 0.7056 - acc: 0.86 - ETA: 3:17:01 - loss: 0.7051 - acc: 0.86 - ETA: 3:16:46 - loss: 0.7045 - acc: 0.86 - ETA: 3:16:30 - loss: 0.7038 - acc: 0.86 - ETA: 3:16:13 - loss: 0.7033 - acc: 0.86 - ETA: 3:15:58 - loss: 0.7026 - acc: 0.86 - ETA: 3:15:42 - loss: 0.7023 - acc: 0.86 - ETA: 3:15:26 - loss: 0.7012 - acc: 0.86 - ETA: 3:15:10 - loss: 0.7007 - acc: 0.86 - ETA: 3:14:54 - loss: 0.6998 - acc: 0.86 - ETA: 3:14:38 - loss: 0.6997 - acc: 0.86 - ETA: 3:14:22 - loss: 0.6991 - acc: 0.86 - ETA: 3:14:07 - loss: 0.6986 - acc: 0.86 - ETA: 3:13:51 - loss: 0.6980 - acc: 0.86 - ETA: 3:13:35 - loss: 0.6973 - acc: 0.86 - ETA: 3:13:19 - loss: 0.6969 - acc: 0.86 - ETA: 3:13:03 - loss: 0.6963 - acc: 0.86 - ETA: 3:12:47 - loss: 0.6960 - acc: 0.86 - ETA: 3:12:32 - loss: 0.6952 - acc: 0.86 - ETA: 3:12:16 - loss: 0.6944 - acc: 0.86 - ETA: 3:12:00 - loss: 0.6940 - acc: 0.86 - ETA: 3:11:44 - loss: 0.6932 - acc: 0.86 - ETA: 3:11:28 - loss: 0.6927 - acc: 0.86 - ETA: 3:11:12 - loss: 0.6922 - acc: 0.86 - ETA: 3:10:56 - loss: 0.6918 - acc: 0.86 - ETA: 3:10:40 - loss: 0.6912 - acc: 0.86 - ETA: 3:10:24 - loss: 0.6907 - acc: 0.86 - ETA: 3:10:08 - loss: 0.6904 - acc: 0.86 - ETA: 3:09:52 - loss: 0.6898 - acc: 0.86 - ETA: 3:09:36 - loss: 0.6892 - acc: 0.86 - ETA: 3:09:21 - loss: 0.6886 - acc: 0.86 - ETA: 3:09:05 - loss: 0.6879 - acc: 0.86 - ETA: 3:08:49 - loss: 0.6875 - acc: 0.86 - ETA: 3:08:34 - loss: 0.6870 - acc: 0.86 - ETA: 3:08:18 - loss: 0.6865 - acc: 0.86 - ETA: 3:08:02 - loss: 0.6861 - acc: 0.86 - ETA: 3:07:46 - loss: 0.6856 - acc: 0.86 - ETA: 3:07:30 - loss: 0.6850 - acc: 0.8670"
     ]
    },
    {
     "name": "stdout",
     "output_type": "stream",
     "text": [
      "12400/20787 [================>.............] - ETA: 3:07:14 - loss: 0.6841 - acc: 0.86 - ETA: 3:06:58 - loss: 0.6837 - acc: 0.86 - ETA: 3:06:42 - loss: 0.6833 - acc: 0.86 - ETA: 3:06:26 - loss: 0.6825 - acc: 0.86 - ETA: 3:06:10 - loss: 0.6822 - acc: 0.86 - ETA: 3:05:55 - loss: 0.6818 - acc: 0.86 - ETA: 3:05:39 - loss: 0.6811 - acc: 0.86 - ETA: 3:05:23 - loss: 0.6810 - acc: 0.86 - ETA: 3:05:07 - loss: 0.6807 - acc: 0.86 - ETA: 3:04:51 - loss: 0.6802 - acc: 0.86 - ETA: 3:04:35 - loss: 0.6794 - acc: 0.86 - ETA: 3:04:20 - loss: 0.6793 - acc: 0.86 - ETA: 3:04:04 - loss: 0.6791 - acc: 0.86 - ETA: 3:03:48 - loss: 0.6786 - acc: 0.86 - ETA: 3:03:32 - loss: 0.6783 - acc: 0.86 - ETA: 3:03:17 - loss: 0.6777 - acc: 0.86 - ETA: 3:03:01 - loss: 0.6777 - acc: 0.86 - ETA: 3:02:45 - loss: 0.6771 - acc: 0.86 - ETA: 3:02:29 - loss: 0.6768 - acc: 0.86 - ETA: 3:02:13 - loss: 0.6762 - acc: 0.86 - ETA: 3:01:57 - loss: 0.6756 - acc: 0.86 - ETA: 3:01:41 - loss: 0.6758 - acc: 0.86 - ETA: 3:01:25 - loss: 0.6750 - acc: 0.86 - ETA: 3:01:10 - loss: 0.6748 - acc: 0.86 - ETA: 3:00:54 - loss: 0.6744 - acc: 0.86 - ETA: 3:00:38 - loss: 0.6737 - acc: 0.86 - ETA: 3:00:22 - loss: 0.6733 - acc: 0.86 - ETA: 3:00:07 - loss: 0.6729 - acc: 0.86 - ETA: 2:59:51 - loss: 0.6726 - acc: 0.86 - ETA: 2:59:35 - loss: 0.6722 - acc: 0.86 - ETA: 2:59:19 - loss: 0.6716 - acc: 0.86 - ETA: 2:59:03 - loss: 0.6710 - acc: 0.86 - ETA: 2:58:47 - loss: 0.6705 - acc: 0.86 - ETA: 2:58:31 - loss: 0.6699 - acc: 0.86 - ETA: 2:58:16 - loss: 0.6692 - acc: 0.86 - ETA: 2:58:00 - loss: 0.6688 - acc: 0.86 - ETA: 2:57:44 - loss: 0.6680 - acc: 0.86 - ETA: 2:57:28 - loss: 0.6674 - acc: 0.86 - ETA: 2:57:13 - loss: 0.6673 - acc: 0.86 - ETA: 2:56:57 - loss: 0.6672 - acc: 0.86 - ETA: 2:56:41 - loss: 0.6665 - acc: 0.86 - ETA: 2:56:25 - loss: 0.6660 - acc: 0.86 - ETA: 2:56:09 - loss: 0.6655 - acc: 0.86 - ETA: 2:55:53 - loss: 0.6650 - acc: 0.86 - ETA: 2:55:37 - loss: 0.6647 - acc: 0.86 - ETA: 2:55:22 - loss: 0.6642 - acc: 0.86 - ETA: 2:55:06 - loss: 0.6639 - acc: 0.86 - ETA: 2:54:50 - loss: 0.6634 - acc: 0.86 - ETA: 2:54:34 - loss: 0.6629 - acc: 0.86 - ETA: 2:54:18 - loss: 0.6625 - acc: 0.86 - ETA: 2:54:03 - loss: 0.6622 - acc: 0.86 - ETA: 2:53:47 - loss: 0.6617 - acc: 0.86 - ETA: 2:53:32 - loss: 0.6611 - acc: 0.86 - ETA: 2:53:16 - loss: 0.6607 - acc: 0.86 - ETA: 2:53:01 - loss: 0.6605 - acc: 0.86 - ETA: 2:52:45 - loss: 0.6600 - acc: 0.86 - ETA: 2:52:29 - loss: 0.6594 - acc: 0.86 - ETA: 2:52:13 - loss: 0.6589 - acc: 0.86 - ETA: 2:51:57 - loss: 0.6587 - acc: 0.86 - ETA: 2:51:42 - loss: 0.6587 - acc: 0.86 - ETA: 2:51:26 - loss: 0.6584 - acc: 0.86 - ETA: 2:51:10 - loss: 0.6577 - acc: 0.87 - ETA: 2:50:55 - loss: 0.6569 - acc: 0.87 - ETA: 2:50:39 - loss: 0.6564 - acc: 0.87 - ETA: 2:50:24 - loss: 0.6559 - acc: 0.87 - ETA: 2:50:08 - loss: 0.6554 - acc: 0.87 - ETA: 2:49:52 - loss: 0.6548 - acc: 0.87 - ETA: 2:49:36 - loss: 0.6543 - acc: 0.87 - ETA: 2:49:21 - loss: 0.6537 - acc: 0.87 - ETA: 2:49:05 - loss: 0.6531 - acc: 0.87 - ETA: 2:48:49 - loss: 0.6526 - acc: 0.87 - ETA: 2:48:34 - loss: 0.6523 - acc: 0.87 - ETA: 2:48:18 - loss: 0.6517 - acc: 0.87 - ETA: 2:48:02 - loss: 0.6510 - acc: 0.87 - ETA: 2:47:47 - loss: 0.6507 - acc: 0.87 - ETA: 2:47:32 - loss: 0.6507 - acc: 0.87 - ETA: 2:47:16 - loss: 0.6505 - acc: 0.87 - ETA: 2:47:01 - loss: 0.6500 - acc: 0.87 - ETA: 2:46:45 - loss: 0.6498 - acc: 0.87 - ETA: 2:46:30 - loss: 0.6493 - acc: 0.87 - ETA: 2:46:14 - loss: 0.6489 - acc: 0.87 - ETA: 2:45:58 - loss: 0.6482 - acc: 0.87 - ETA: 2:45:43 - loss: 0.6479 - acc: 0.87 - ETA: 2:45:28 - loss: 0.6474 - acc: 0.87 - ETA: 2:45:12 - loss: 0.6470 - acc: 0.87 - ETA: 2:44:57 - loss: 0.6466 - acc: 0.87 - ETA: 2:44:41 - loss: 0.6463 - acc: 0.87 - ETA: 2:44:25 - loss: 0.6460 - acc: 0.87 - ETA: 2:44:10 - loss: 0.6456 - acc: 0.87 - ETA: 2:43:54 - loss: 0.6449 - acc: 0.87 - ETA: 2:43:38 - loss: 0.6442 - acc: 0.87 - ETA: 2:43:22 - loss: 0.6437 - acc: 0.87 - ETA: 2:43:07 - loss: 0.6430 - acc: 0.87 - ETA: 2:42:51 - loss: 0.6426 - acc: 0.87 - ETA: 2:42:36 - loss: 0.6423 - acc: 0.87 - ETA: 2:42:20 - loss: 0.6416 - acc: 0.87 - ETA: 2:42:05 - loss: 0.6412 - acc: 0.87 - ETA: 2:41:49 - loss: 0.6407 - acc: 0.87 - ETA: 2:41:33 - loss: 0.6403 - acc: 0.87 - ETA: 2:41:18 - loss: 0.6398 - acc: 0.87 - ETA: 2:41:02 - loss: 0.6393 - acc: 0.87 - ETA: 2:40:46 - loss: 0.6388 - acc: 0.87 - ETA: 2:40:31 - loss: 0.6385 - acc: 0.87 - ETA: 2:40:15 - loss: 0.6379 - acc: 0.87 - ETA: 2:39:59 - loss: 0.6373 - acc: 0.87 - ETA: 2:39:44 - loss: 0.6372 - acc: 0.87 - ETA: 2:39:28 - loss: 0.6364 - acc: 0.87 - ETA: 2:39:12 - loss: 0.6359 - acc: 0.87 - ETA: 2:38:56 - loss: 0.6353 - acc: 0.87 - ETA: 2:38:40 - loss: 0.6347 - acc: 0.87 - ETA: 2:38:24 - loss: 0.6346 - acc: 0.87 - ETA: 2:38:09 - loss: 0.6339 - acc: 0.87 - ETA: 2:37:53 - loss: 0.6335 - acc: 0.87 - ETA: 2:37:37 - loss: 0.6330 - acc: 0.87 - ETA: 2:37:21 - loss: 0.6324 - acc: 0.87 - ETA: 2:37:05 - loss: 0.6321 - acc: 0.87 - ETA: 2:36:50 - loss: 0.6316 - acc: 0.87 - ETA: 2:36:34 - loss: 0.6313 - acc: 0.87 - ETA: 2:36:18 - loss: 0.6306 - acc: 0.87 - ETA: 2:36:03 - loss: 0.6302 - acc: 0.87 - ETA: 2:35:47 - loss: 0.6297 - acc: 0.87 - ETA: 2:35:31 - loss: 0.6291 - acc: 0.87 - ETA: 2:35:16 - loss: 0.6285 - acc: 0.87 - ETA: 2:35:00 - loss: 0.6280 - acc: 0.87 - ETA: 2:34:44 - loss: 0.6275 - acc: 0.87 - ETA: 2:34:29 - loss: 0.6269 - acc: 0.87 - ETA: 2:34:13 - loss: 0.6265 - acc: 0.87 - ETA: 2:33:58 - loss: 0.6263 - acc: 0.87 - ETA: 2:33:42 - loss: 0.6262 - acc: 0.87 - ETA: 2:33:26 - loss: 0.6258 - acc: 0.87 - ETA: 2:33:11 - loss: 0.6252 - acc: 0.87 - ETA: 2:32:55 - loss: 0.6248 - acc: 0.87 - ETA: 2:32:39 - loss: 0.6244 - acc: 0.87 - ETA: 2:32:24 - loss: 0.6241 - acc: 0.87 - ETA: 2:32:08 - loss: 0.6237 - acc: 0.87 - ETA: 2:31:54 - loss: 0.6234 - acc: 0.87 - ETA: 2:31:39 - loss: 0.6230 - acc: 0.87 - ETA: 2:31:25 - loss: 0.6229 - acc: 0.87 - ETA: 2:31:10 - loss: 0.6224 - acc: 0.87 - ETA: 2:30:55 - loss: 0.6219 - acc: 0.87 - ETA: 2:30:39 - loss: 0.6213 - acc: 0.87 - ETA: 2:30:23 - loss: 0.6209 - acc: 0.87 - ETA: 2:30:08 - loss: 0.6205 - acc: 0.87 - ETA: 2:29:52 - loss: 0.6200 - acc: 0.87 - ETA: 2:29:37 - loss: 0.6196 - acc: 0.87 - ETA: 2:29:21 - loss: 0.6191 - acc: 0.87 - ETA: 2:29:05 - loss: 0.6185 - acc: 0.87 - ETA: 2:28:49 - loss: 0.6180 - acc: 0.87 - ETA: 2:28:33 - loss: 0.6176 - acc: 0.87 - ETA: 2:28:18 - loss: 0.6171 - acc: 0.87 - ETA: 2:28:02 - loss: 0.6167 - acc: 0.87 - ETA: 2:27:47 - loss: 0.6164 - acc: 0.87 - ETA: 2:27:31 - loss: 0.6159 - acc: 0.87 - ETA: 2:27:15 - loss: 0.6159 - acc: 0.87 - ETA: 2:27:00 - loss: 0.6155 - acc: 0.87 - ETA: 2:26:44 - loss: 0.6153 - acc: 0.87 - ETA: 2:26:28 - loss: 0.6148 - acc: 0.87 - ETA: 2:26:13 - loss: 0.6145 - acc: 0.87 - ETA: 2:25:57 - loss: 0.6140 - acc: 0.87 - ETA: 2:25:42 - loss: 0.6135 - acc: 0.87 - ETA: 2:25:26 - loss: 0.6131 - acc: 0.87 - ETA: 2:25:10 - loss: 0.6131 - acc: 0.87 - ETA: 2:24:55 - loss: 0.6126 - acc: 0.87 - ETA: 2:24:39 - loss: 0.6124 - acc: 0.87 - ETA: 2:24:23 - loss: 0.6120 - acc: 0.87 - ETA: 2:24:08 - loss: 0.6116 - acc: 0.87 - ETA: 2:23:52 - loss: 0.6115 - acc: 0.87 - ETA: 2:23:36 - loss: 0.6111 - acc: 0.87 - ETA: 2:23:21 - loss: 0.6107 - acc: 0.87 - ETA: 2:23:05 - loss: 0.6103 - acc: 0.87 - ETA: 2:22:49 - loss: 0.6098 - acc: 0.87 - ETA: 2:22:34 - loss: 0.6091 - acc: 0.87 - ETA: 2:22:18 - loss: 0.6088 - acc: 0.87 - ETA: 2:22:02 - loss: 0.6086 - acc: 0.87 - ETA: 2:21:46 - loss: 0.6085 - acc: 0.87 - ETA: 2:21:31 - loss: 0.6081 - acc: 0.87 - ETA: 2:21:15 - loss: 0.6080 - acc: 0.87 - ETA: 2:21:00 - loss: 0.6074 - acc: 0.87 - ETA: 2:20:44 - loss: 0.6070 - acc: 0.87 - ETA: 2:20:28 - loss: 0.6065 - acc: 0.87 - ETA: 2:20:13 - loss: 0.6061 - acc: 0.87 - ETA: 2:19:57 - loss: 0.6058 - acc: 0.87 - ETA: 2:19:41 - loss: 0.6053 - acc: 0.87 - ETA: 2:19:26 - loss: 0.6049 - acc: 0.87 - ETA: 2:19:10 - loss: 0.6048 - acc: 0.87 - ETA: 2:18:54 - loss: 0.6042 - acc: 0.87 - ETA: 2:18:39 - loss: 0.6038 - acc: 0.87 - ETA: 2:18:23 - loss: 0.6034 - acc: 0.87 - ETA: 2:18:07 - loss: 0.6029 - acc: 0.87 - ETA: 2:17:51 - loss: 0.6029 - acc: 0.87 - ETA: 2:17:35 - loss: 0.6024 - acc: 0.87 - ETA: 2:17:20 - loss: 0.6018 - acc: 0.87 - ETA: 2:17:04 - loss: 0.6014 - acc: 0.87 - ETA: 2:16:48 - loss: 0.6009 - acc: 0.8768"
     ]
    },
    {
     "name": "stdout",
     "output_type": "stream",
     "text": [
      "15504/20787 [=====================>........] - ETA: 2:16:33 - loss: 0.6003 - acc: 0.87 - ETA: 2:16:17 - loss: 0.5998 - acc: 0.87 - ETA: 2:16:01 - loss: 0.5994 - acc: 0.87 - ETA: 2:15:46 - loss: 0.5992 - acc: 0.87 - ETA: 2:15:30 - loss: 0.5989 - acc: 0.87 - ETA: 2:15:14 - loss: 0.5985 - acc: 0.87 - ETA: 2:15:00 - loss: 0.5979 - acc: 0.87 - ETA: 2:14:44 - loss: 0.5976 - acc: 0.87 - ETA: 2:14:28 - loss: 0.5973 - acc: 0.87 - ETA: 2:14:13 - loss: 0.5970 - acc: 0.87 - ETA: 2:13:57 - loss: 0.5963 - acc: 0.87 - ETA: 2:13:41 - loss: 0.5958 - acc: 0.87 - ETA: 2:13:25 - loss: 0.5954 - acc: 0.87 - ETA: 2:13:09 - loss: 0.5950 - acc: 0.87 - ETA: 2:12:54 - loss: 0.5947 - acc: 0.87 - ETA: 2:12:38 - loss: 0.5943 - acc: 0.87 - ETA: 2:12:22 - loss: 0.5938 - acc: 0.87 - ETA: 2:12:06 - loss: 0.5935 - acc: 0.87 - ETA: 2:11:51 - loss: 0.5931 - acc: 0.87 - ETA: 2:11:35 - loss: 0.5929 - acc: 0.87 - ETA: 2:11:19 - loss: 0.5925 - acc: 0.87 - ETA: 2:11:03 - loss: 0.5922 - acc: 0.87 - ETA: 2:10:48 - loss: 0.5918 - acc: 0.87 - ETA: 2:10:32 - loss: 0.5914 - acc: 0.87 - ETA: 2:10:16 - loss: 0.5909 - acc: 0.87 - ETA: 2:10:01 - loss: 0.5905 - acc: 0.87 - ETA: 2:09:45 - loss: 0.5902 - acc: 0.87 - ETA: 2:09:29 - loss: 0.5898 - acc: 0.87 - ETA: 2:09:14 - loss: 0.5895 - acc: 0.87 - ETA: 2:08:58 - loss: 0.5890 - acc: 0.87 - ETA: 2:08:42 - loss: 0.5884 - acc: 0.87 - ETA: 2:08:26 - loss: 0.5881 - acc: 0.87 - ETA: 2:08:11 - loss: 0.5877 - acc: 0.87 - ETA: 2:07:55 - loss: 0.5871 - acc: 0.87 - ETA: 2:07:39 - loss: 0.5868 - acc: 0.87 - ETA: 2:07:23 - loss: 0.5863 - acc: 0.87 - ETA: 2:07:08 - loss: 0.5861 - acc: 0.87 - ETA: 2:06:52 - loss: 0.5857 - acc: 0.87 - ETA: 2:06:36 - loss: 0.5855 - acc: 0.87 - ETA: 2:06:21 - loss: 0.5850 - acc: 0.87 - ETA: 2:06:05 - loss: 0.5845 - acc: 0.87 - ETA: 2:05:49 - loss: 0.5842 - acc: 0.87 - ETA: 2:05:34 - loss: 0.5841 - acc: 0.87 - ETA: 2:05:18 - loss: 0.5836 - acc: 0.87 - ETA: 2:05:02 - loss: 0.5831 - acc: 0.87 - ETA: 2:04:46 - loss: 0.5826 - acc: 0.87 - ETA: 2:04:31 - loss: 0.5823 - acc: 0.87 - ETA: 2:04:15 - loss: 0.5821 - acc: 0.87 - ETA: 2:03:59 - loss: 0.5820 - acc: 0.87 - ETA: 2:03:43 - loss: 0.5815 - acc: 0.87 - ETA: 2:03:28 - loss: 0.5811 - acc: 0.87 - ETA: 2:03:12 - loss: 0.5809 - acc: 0.87 - ETA: 2:02:56 - loss: 0.5808 - acc: 0.87 - ETA: 2:02:40 - loss: 0.5805 - acc: 0.87 - ETA: 2:02:24 - loss: 0.5801 - acc: 0.87 - ETA: 2:02:09 - loss: 0.5798 - acc: 0.87 - ETA: 2:01:53 - loss: 0.5795 - acc: 0.87 - ETA: 2:01:37 - loss: 0.5790 - acc: 0.87 - ETA: 2:01:21 - loss: 0.5785 - acc: 0.87 - ETA: 2:01:06 - loss: 0.5780 - acc: 0.87 - ETA: 2:00:50 - loss: 0.5777 - acc: 0.87 - ETA: 2:00:34 - loss: 0.5775 - acc: 0.87 - ETA: 2:00:19 - loss: 0.5771 - acc: 0.87 - ETA: 2:00:03 - loss: 0.5767 - acc: 0.87 - ETA: 1:59:47 - loss: 0.5764 - acc: 0.87 - ETA: 1:59:31 - loss: 0.5759 - acc: 0.88 - ETA: 1:59:15 - loss: 0.5754 - acc: 0.88 - ETA: 1:59:00 - loss: 0.5751 - acc: 0.88 - ETA: 1:58:44 - loss: 0.5747 - acc: 0.88 - ETA: 1:58:28 - loss: 0.5744 - acc: 0.88 - ETA: 1:58:13 - loss: 0.5741 - acc: 0.88 - ETA: 1:57:57 - loss: 0.5739 - acc: 0.88 - ETA: 1:57:41 - loss: 0.5737 - acc: 0.88 - ETA: 1:57:25 - loss: 0.5732 - acc: 0.88 - ETA: 1:57:10 - loss: 0.5729 - acc: 0.88 - ETA: 1:56:54 - loss: 0.5727 - acc: 0.88 - ETA: 1:56:38 - loss: 0.5724 - acc: 0.88 - ETA: 1:56:23 - loss: 0.5721 - acc: 0.88 - ETA: 1:56:07 - loss: 0.5718 - acc: 0.88 - ETA: 1:55:51 - loss: 0.5715 - acc: 0.88 - ETA: 1:55:35 - loss: 0.5710 - acc: 0.88 - ETA: 1:55:20 - loss: 0.5705 - acc: 0.88 - ETA: 1:55:04 - loss: 0.5699 - acc: 0.88 - ETA: 1:54:48 - loss: 0.5696 - acc: 0.88 - ETA: 1:54:32 - loss: 0.5692 - acc: 0.88 - ETA: 1:54:17 - loss: 0.5689 - acc: 0.88 - ETA: 1:54:01 - loss: 0.5685 - acc: 0.88 - ETA: 1:53:45 - loss: 0.5681 - acc: 0.88 - ETA: 1:53:29 - loss: 0.5677 - acc: 0.88 - ETA: 1:53:14 - loss: 0.5673 - acc: 0.88 - ETA: 1:52:58 - loss: 0.5668 - acc: 0.88 - ETA: 1:52:43 - loss: 0.5666 - acc: 0.88 - ETA: 1:52:27 - loss: 0.5661 - acc: 0.88 - ETA: 1:52:11 - loss: 0.5658 - acc: 0.88 - ETA: 1:51:55 - loss: 0.5654 - acc: 0.88 - ETA: 1:51:40 - loss: 0.5651 - acc: 0.88 - ETA: 1:51:24 - loss: 0.5647 - acc: 0.88 - ETA: 1:51:08 - loss: 0.5644 - acc: 0.88 - ETA: 1:50:53 - loss: 0.5640 - acc: 0.88 - ETA: 1:50:37 - loss: 0.5635 - acc: 0.88 - ETA: 1:50:21 - loss: 0.5631 - acc: 0.88 - ETA: 1:50:05 - loss: 0.5630 - acc: 0.88 - ETA: 1:49:50 - loss: 0.5627 - acc: 0.88 - ETA: 1:49:34 - loss: 0.5623 - acc: 0.88 - ETA: 1:49:18 - loss: 0.5620 - acc: 0.88 - ETA: 1:49:02 - loss: 0.5617 - acc: 0.88 - ETA: 1:48:47 - loss: 0.5614 - acc: 0.88 - ETA: 1:48:31 - loss: 0.5613 - acc: 0.88 - ETA: 1:48:15 - loss: 0.5610 - acc: 0.88 - ETA: 1:48:00 - loss: 0.5609 - acc: 0.88 - ETA: 1:47:45 - loss: 0.5606 - acc: 0.88 - ETA: 1:47:30 - loss: 0.5602 - acc: 0.88 - ETA: 1:47:14 - loss: 0.5599 - acc: 0.88 - ETA: 1:46:59 - loss: 0.5596 - acc: 0.88 - ETA: 1:46:43 - loss: 0.5595 - acc: 0.88 - ETA: 1:46:27 - loss: 0.5590 - acc: 0.88 - ETA: 1:46:11 - loss: 0.5588 - acc: 0.88 - ETA: 1:45:56 - loss: 0.5583 - acc: 0.88 - ETA: 1:45:40 - loss: 0.5582 - acc: 0.88 - ETA: 1:45:24 - loss: 0.5579 - acc: 0.88 - ETA: 1:45:08 - loss: 0.5574 - acc: 0.88 - ETA: 1:44:52 - loss: 0.5571 - acc: 0.88 - ETA: 1:44:37 - loss: 0.5567 - acc: 0.88 - ETA: 1:44:21 - loss: 0.5563 - acc: 0.88 - ETA: 1:44:05 - loss: 0.5560 - acc: 0.88 - ETA: 1:43:50 - loss: 0.5558 - acc: 0.88 - ETA: 1:43:34 - loss: 0.5556 - acc: 0.88 - ETA: 1:43:18 - loss: 0.5553 - acc: 0.88 - ETA: 1:43:03 - loss: 0.5549 - acc: 0.88 - ETA: 1:42:47 - loss: 0.5545 - acc: 0.88 - ETA: 1:42:31 - loss: 0.5542 - acc: 0.88 - ETA: 1:42:16 - loss: 0.5538 - acc: 0.88 - ETA: 1:42:00 - loss: 0.5534 - acc: 0.88 - ETA: 1:41:44 - loss: 0.5532 - acc: 0.88 - ETA: 1:41:29 - loss: 0.5529 - acc: 0.88 - ETA: 1:41:13 - loss: 0.5525 - acc: 0.88 - ETA: 1:40:57 - loss: 0.5522 - acc: 0.88 - ETA: 1:40:42 - loss: 0.5519 - acc: 0.88 - ETA: 1:40:26 - loss: 0.5516 - acc: 0.88 - ETA: 1:40:10 - loss: 0.5511 - acc: 0.88 - ETA: 1:39:54 - loss: 0.5508 - acc: 0.88 - ETA: 1:39:39 - loss: 0.5503 - acc: 0.88 - ETA: 1:39:23 - loss: 0.5501 - acc: 0.88 - ETA: 1:39:07 - loss: 0.5498 - acc: 0.88 - ETA: 1:38:52 - loss: 0.5495 - acc: 0.88 - ETA: 1:38:36 - loss: 0.5493 - acc: 0.88 - ETA: 1:38:20 - loss: 0.5488 - acc: 0.88 - ETA: 1:38:05 - loss: 0.5485 - acc: 0.88 - ETA: 1:37:49 - loss: 0.5481 - acc: 0.88 - ETA: 1:37:33 - loss: 0.5478 - acc: 0.88 - ETA: 1:37:18 - loss: 0.5473 - acc: 0.88 - ETA: 1:37:02 - loss: 0.5469 - acc: 0.88 - ETA: 1:36:46 - loss: 0.5466 - acc: 0.88 - ETA: 1:36:31 - loss: 0.5463 - acc: 0.88 - ETA: 1:36:15 - loss: 0.5459 - acc: 0.88 - ETA: 1:35:59 - loss: 0.5457 - acc: 0.88 - ETA: 1:35:43 - loss: 0.5454 - acc: 0.88 - ETA: 1:35:28 - loss: 0.5450 - acc: 0.88 - ETA: 1:35:12 - loss: 0.5448 - acc: 0.88 - ETA: 1:34:56 - loss: 0.5446 - acc: 0.88 - ETA: 1:34:41 - loss: 0.5443 - acc: 0.88 - ETA: 1:34:25 - loss: 0.5439 - acc: 0.88 - ETA: 1:34:09 - loss: 0.5435 - acc: 0.88 - ETA: 1:33:54 - loss: 0.5432 - acc: 0.88 - ETA: 1:33:38 - loss: 0.5431 - acc: 0.88 - ETA: 1:33:22 - loss: 0.5429 - acc: 0.88 - ETA: 1:33:06 - loss: 0.5426 - acc: 0.88 - ETA: 1:32:51 - loss: 0.5425 - acc: 0.88 - ETA: 1:32:35 - loss: 0.5422 - acc: 0.88 - ETA: 1:32:20 - loss: 0.5416 - acc: 0.88 - ETA: 1:32:04 - loss: 0.5413 - acc: 0.88 - ETA: 1:31:48 - loss: 0.5408 - acc: 0.88 - ETA: 1:31:33 - loss: 0.5405 - acc: 0.88 - ETA: 1:31:17 - loss: 0.5402 - acc: 0.88 - ETA: 1:31:02 - loss: 0.5399 - acc: 0.88 - ETA: 1:30:46 - loss: 0.5397 - acc: 0.88 - ETA: 1:30:31 - loss: 0.5393 - acc: 0.88 - ETA: 1:30:15 - loss: 0.5391 - acc: 0.88 - ETA: 1:29:59 - loss: 0.5390 - acc: 0.88 - ETA: 1:29:44 - loss: 0.5387 - acc: 0.88 - ETA: 1:29:28 - loss: 0.5383 - acc: 0.88 - ETA: 1:29:12 - loss: 0.5379 - acc: 0.88 - ETA: 1:28:57 - loss: 0.5376 - acc: 0.88 - ETA: 1:28:41 - loss: 0.5376 - acc: 0.88 - ETA: 1:28:25 - loss: 0.5372 - acc: 0.88 - ETA: 1:28:10 - loss: 0.5370 - acc: 0.88 - ETA: 1:27:54 - loss: 0.5368 - acc: 0.88 - ETA: 1:27:39 - loss: 0.5366 - acc: 0.88 - ETA: 1:27:23 - loss: 0.5362 - acc: 0.88 - ETA: 1:27:07 - loss: 0.5360 - acc: 0.88 - ETA: 1:26:52 - loss: 0.5356 - acc: 0.88 - ETA: 1:26:36 - loss: 0.5353 - acc: 0.88 - ETA: 1:26:20 - loss: 0.5350 - acc: 0.88 - ETA: 1:26:05 - loss: 0.5347 - acc: 0.8858"
     ]
    },
    {
     "name": "stdout",
     "output_type": "stream",
     "text": [
      "18688/20787 [=========================>....] - ETA: 1:25:49 - loss: 0.5342 - acc: 0.88 - ETA: 1:25:34 - loss: 0.5340 - acc: 0.88 - ETA: 1:25:18 - loss: 0.5337 - acc: 0.88 - ETA: 1:25:02 - loss: 0.5336 - acc: 0.88 - ETA: 1:24:47 - loss: 0.5333 - acc: 0.88 - ETA: 1:24:31 - loss: 0.5329 - acc: 0.88 - ETA: 1:24:16 - loss: 0.5326 - acc: 0.88 - ETA: 1:24:00 - loss: 0.5323 - acc: 0.88 - ETA: 1:23:45 - loss: 0.5323 - acc: 0.88 - ETA: 1:23:29 - loss: 0.5320 - acc: 0.88 - ETA: 1:23:13 - loss: 0.5316 - acc: 0.88 - ETA: 1:22:58 - loss: 0.5314 - acc: 0.88 - ETA: 1:22:42 - loss: 0.5310 - acc: 0.88 - ETA: 1:22:27 - loss: 0.5308 - acc: 0.88 - ETA: 1:22:11 - loss: 0.5306 - acc: 0.88 - ETA: 1:21:55 - loss: 0.5303 - acc: 0.88 - ETA: 1:21:40 - loss: 0.5300 - acc: 0.88 - ETA: 1:21:24 - loss: 0.5298 - acc: 0.88 - ETA: 1:21:08 - loss: 0.5297 - acc: 0.88 - ETA: 1:20:53 - loss: 0.5294 - acc: 0.88 - ETA: 1:20:37 - loss: 0.5291 - acc: 0.88 - ETA: 1:20:21 - loss: 0.5288 - acc: 0.88 - ETA: 1:20:06 - loss: 0.5285 - acc: 0.88 - ETA: 1:19:50 - loss: 0.5281 - acc: 0.88 - ETA: 1:19:35 - loss: 0.5277 - acc: 0.88 - ETA: 1:19:19 - loss: 0.5274 - acc: 0.88 - ETA: 1:19:03 - loss: 0.5271 - acc: 0.88 - ETA: 1:18:47 - loss: 0.5269 - acc: 0.88 - ETA: 1:18:32 - loss: 0.5267 - acc: 0.88 - ETA: 1:18:16 - loss: 0.5263 - acc: 0.88 - ETA: 1:18:01 - loss: 0.5260 - acc: 0.88 - ETA: 1:17:45 - loss: 0.5260 - acc: 0.88 - ETA: 1:17:29 - loss: 0.5256 - acc: 0.88 - ETA: 1:17:13 - loss: 0.5254 - acc: 0.88 - ETA: 1:16:58 - loss: 0.5252 - acc: 0.88 - ETA: 1:16:42 - loss: 0.5249 - acc: 0.88 - ETA: 1:16:27 - loss: 0.5245 - acc: 0.88 - ETA: 1:16:11 - loss: 0.5243 - acc: 0.88 - ETA: 1:15:55 - loss: 0.5239 - acc: 0.88 - ETA: 1:15:40 - loss: 0.5237 - acc: 0.88 - ETA: 1:15:24 - loss: 0.5235 - acc: 0.88 - ETA: 1:15:08 - loss: 0.5231 - acc: 0.88 - ETA: 1:14:53 - loss: 0.5227 - acc: 0.88 - ETA: 1:14:37 - loss: 0.5225 - acc: 0.88 - ETA: 1:14:21 - loss: 0.5222 - acc: 0.88 - ETA: 1:14:06 - loss: 0.5219 - acc: 0.88 - ETA: 1:13:50 - loss: 0.5215 - acc: 0.88 - ETA: 1:13:34 - loss: 0.5212 - acc: 0.88 - ETA: 1:13:19 - loss: 0.5210 - acc: 0.88 - ETA: 1:13:03 - loss: 0.5207 - acc: 0.88 - ETA: 1:12:47 - loss: 0.5204 - acc: 0.88 - ETA: 1:12:32 - loss: 0.5203 - acc: 0.88 - ETA: 1:12:16 - loss: 0.5200 - acc: 0.88 - ETA: 1:12:01 - loss: 0.5197 - acc: 0.88 - ETA: 1:11:45 - loss: 0.5194 - acc: 0.88 - ETA: 1:11:29 - loss: 0.5192 - acc: 0.88 - ETA: 1:11:13 - loss: 0.5188 - acc: 0.88 - ETA: 1:10:58 - loss: 0.5185 - acc: 0.88 - ETA: 1:10:42 - loss: 0.5183 - acc: 0.88 - ETA: 1:10:27 - loss: 0.5182 - acc: 0.88 - ETA: 1:10:11 - loss: 0.5179 - acc: 0.88 - ETA: 1:09:55 - loss: 0.5176 - acc: 0.88 - ETA: 1:09:40 - loss: 0.5172 - acc: 0.88 - ETA: 1:09:24 - loss: 0.5171 - acc: 0.88 - ETA: 1:09:09 - loss: 0.5167 - acc: 0.88 - ETA: 1:08:53 - loss: 0.5165 - acc: 0.88 - ETA: 1:08:37 - loss: 0.5162 - acc: 0.88 - ETA: 1:08:22 - loss: 0.5161 - acc: 0.88 - ETA: 1:08:06 - loss: 0.5159 - acc: 0.88 - ETA: 1:07:51 - loss: 0.5158 - acc: 0.88 - ETA: 1:07:35 - loss: 0.5155 - acc: 0.88 - ETA: 1:07:19 - loss: 0.5153 - acc: 0.88 - ETA: 1:07:04 - loss: 0.5149 - acc: 0.88 - ETA: 1:06:48 - loss: 0.5147 - acc: 0.88 - ETA: 1:06:32 - loss: 0.5144 - acc: 0.88 - ETA: 1:06:17 - loss: 0.5142 - acc: 0.88 - ETA: 1:06:01 - loss: 0.5139 - acc: 0.88 - ETA: 1:05:46 - loss: 0.5135 - acc: 0.88 - ETA: 1:05:30 - loss: 0.5131 - acc: 0.88 - ETA: 1:05:14 - loss: 0.5128 - acc: 0.88 - ETA: 1:04:59 - loss: 0.5125 - acc: 0.88 - ETA: 1:04:43 - loss: 0.5123 - acc: 0.88 - ETA: 1:04:27 - loss: 0.5120 - acc: 0.88 - ETA: 1:04:12 - loss: 0.5118 - acc: 0.88 - ETA: 1:03:56 - loss: 0.5115 - acc: 0.88 - ETA: 1:03:40 - loss: 0.5112 - acc: 0.88 - ETA: 1:03:25 - loss: 0.5110 - acc: 0.88 - ETA: 1:03:09 - loss: 0.5108 - acc: 0.88 - ETA: 1:02:53 - loss: 0.5105 - acc: 0.88 - ETA: 1:02:38 - loss: 0.5102 - acc: 0.88 - ETA: 1:02:22 - loss: 0.5097 - acc: 0.88 - ETA: 1:02:07 - loss: 0.5095 - acc: 0.88 - ETA: 1:01:51 - loss: 0.5091 - acc: 0.88 - ETA: 1:01:35 - loss: 0.5088 - acc: 0.88 - ETA: 1:01:20 - loss: 0.5085 - acc: 0.88 - ETA: 1:01:04 - loss: 0.5083 - acc: 0.88 - ETA: 1:00:48 - loss: 0.5082 - acc: 0.88 - ETA: 1:00:33 - loss: 0.5079 - acc: 0.88 - ETA: 1:00:17 - loss: 0.5078 - acc: 0.88 - ETA: 1:00:01 - loss: 0.5076 - acc: 0.88 - ETA: 59:46 - loss: 0.5072 - acc: 0.8897 - ETA: 59:30 - loss: 0.5070 - acc: 0.88 - ETA: 59:14 - loss: 0.5067 - acc: 0.88 - ETA: 58:59 - loss: 0.5065 - acc: 0.88 - ETA: 58:43 - loss: 0.5061 - acc: 0.88 - ETA: 58:27 - loss: 0.5059 - acc: 0.88 - ETA: 58:12 - loss: 0.5056 - acc: 0.88 - ETA: 57:56 - loss: 0.5053 - acc: 0.88 - ETA: 57:40 - loss: 0.5052 - acc: 0.89 - ETA: 57:25 - loss: 0.5049 - acc: 0.89 - ETA: 57:09 - loss: 0.5047 - acc: 0.89 - ETA: 56:54 - loss: 0.5044 - acc: 0.89 - ETA: 56:38 - loss: 0.5042 - acc: 0.89 - ETA: 56:22 - loss: 0.5039 - acc: 0.89 - ETA: 56:07 - loss: 0.5036 - acc: 0.89 - ETA: 55:51 - loss: 0.5034 - acc: 0.89 - ETA: 55:36 - loss: 0.5030 - acc: 0.89 - ETA: 55:20 - loss: 0.5027 - acc: 0.89 - ETA: 55:05 - loss: 0.5026 - acc: 0.89 - ETA: 54:49 - loss: 0.5025 - acc: 0.89 - ETA: 54:34 - loss: 0.5023 - acc: 0.89 - ETA: 54:18 - loss: 0.5020 - acc: 0.89 - ETA: 54:03 - loss: 0.5016 - acc: 0.89 - ETA: 53:47 - loss: 0.5015 - acc: 0.89 - ETA: 53:31 - loss: 0.5012 - acc: 0.89 - ETA: 53:16 - loss: 0.5010 - acc: 0.89 - ETA: 53:00 - loss: 0.5007 - acc: 0.89 - ETA: 52:45 - loss: 0.5004 - acc: 0.89 - ETA: 52:29 - loss: 0.5001 - acc: 0.89 - ETA: 52:13 - loss: 0.4999 - acc: 0.89 - ETA: 51:58 - loss: 0.4997 - acc: 0.89 - ETA: 51:42 - loss: 0.4996 - acc: 0.89 - ETA: 51:26 - loss: 0.4993 - acc: 0.89 - ETA: 51:11 - loss: 0.4990 - acc: 0.89 - ETA: 50:55 - loss: 0.4988 - acc: 0.89 - ETA: 50:39 - loss: 0.4984 - acc: 0.89 - ETA: 50:24 - loss: 0.4981 - acc: 0.89 - ETA: 50:08 - loss: 0.4978 - acc: 0.89 - ETA: 49:53 - loss: 0.4976 - acc: 0.89 - ETA: 49:37 - loss: 0.4974 - acc: 0.89 - ETA: 49:21 - loss: 0.4971 - acc: 0.89 - ETA: 49:06 - loss: 0.4969 - acc: 0.89 - ETA: 48:50 - loss: 0.4967 - acc: 0.89 - ETA: 48:34 - loss: 0.4964 - acc: 0.89 - ETA: 48:19 - loss: 0.4961 - acc: 0.89 - ETA: 48:03 - loss: 0.4958 - acc: 0.89 - ETA: 47:47 - loss: 0.4955 - acc: 0.89 - ETA: 47:32 - loss: 0.4954 - acc: 0.89 - ETA: 47:16 - loss: 0.4952 - acc: 0.89 - ETA: 47:01 - loss: 0.4949 - acc: 0.89 - ETA: 46:45 - loss: 0.4947 - acc: 0.89 - ETA: 46:29 - loss: 0.4943 - acc: 0.89 - ETA: 46:14 - loss: 0.4942 - acc: 0.89 - ETA: 45:58 - loss: 0.4941 - acc: 0.89 - ETA: 45:43 - loss: 0.4939 - acc: 0.89 - ETA: 45:27 - loss: 0.4937 - acc: 0.89 - ETA: 45:12 - loss: 0.4934 - acc: 0.89 - ETA: 44:56 - loss: 0.4930 - acc: 0.89 - ETA: 44:40 - loss: 0.4928 - acc: 0.89 - ETA: 44:25 - loss: 0.4925 - acc: 0.89 - ETA: 44:09 - loss: 0.4923 - acc: 0.89 - ETA: 43:53 - loss: 0.4920 - acc: 0.89 - ETA: 43:38 - loss: 0.4918 - acc: 0.89 - ETA: 43:22 - loss: 0.4915 - acc: 0.89 - ETA: 43:06 - loss: 0.4912 - acc: 0.89 - ETA: 42:51 - loss: 0.4911 - acc: 0.89 - ETA: 42:35 - loss: 0.4908 - acc: 0.89 - ETA: 42:20 - loss: 0.4906 - acc: 0.89 - ETA: 42:04 - loss: 0.4903 - acc: 0.89 - ETA: 41:48 - loss: 0.4900 - acc: 0.89 - ETA: 41:33 - loss: 0.4900 - acc: 0.89 - ETA: 41:18 - loss: 0.4897 - acc: 0.89 - ETA: 41:02 - loss: 0.4894 - acc: 0.89 - ETA: 40:47 - loss: 0.4892 - acc: 0.89 - ETA: 40:31 - loss: 0.4889 - acc: 0.89 - ETA: 40:15 - loss: 0.4887 - acc: 0.89 - ETA: 40:00 - loss: 0.4884 - acc: 0.89 - ETA: 39:44 - loss: 0.4883 - acc: 0.89 - ETA: 39:29 - loss: 0.4881 - acc: 0.89 - ETA: 39:13 - loss: 0.4879 - acc: 0.89 - ETA: 38:57 - loss: 0.4878 - acc: 0.89 - ETA: 38:42 - loss: 0.4877 - acc: 0.89 - ETA: 38:26 - loss: 0.4875 - acc: 0.89 - ETA: 38:10 - loss: 0.4872 - acc: 0.89 - ETA: 37:55 - loss: 0.4870 - acc: 0.89 - ETA: 37:39 - loss: 0.4869 - acc: 0.89 - ETA: 37:23 - loss: 0.4866 - acc: 0.89 - ETA: 37:08 - loss: 0.4863 - acc: 0.89 - ETA: 36:52 - loss: 0.4861 - acc: 0.89 - ETA: 36:36 - loss: 0.4859 - acc: 0.89 - ETA: 36:21 - loss: 0.4855 - acc: 0.89 - ETA: 36:05 - loss: 0.4853 - acc: 0.89 - ETA: 35:49 - loss: 0.4851 - acc: 0.89 - ETA: 35:34 - loss: 0.4847 - acc: 0.89 - ETA: 35:18 - loss: 0.4845 - acc: 0.89 - ETA: 35:02 - loss: 0.4844 - acc: 0.89 - ETA: 34:47 - loss: 0.4842 - acc: 0.89 - ETA: 34:31 - loss: 0.4841 - acc: 0.89 - ETA: 34:15 - loss: 0.4839 - acc: 0.8932"
     ]
    },
    {
     "name": "stdout",
     "output_type": "stream",
     "text": [
      "20784/20787 [============================>.] - ETA: 34:00 - loss: 0.4838 - acc: 0.89 - ETA: 33:44 - loss: 0.4836 - acc: 0.89 - ETA: 33:28 - loss: 0.4833 - acc: 0.89 - ETA: 33:13 - loss: 0.4831 - acc: 0.89 - ETA: 32:57 - loss: 0.4828 - acc: 0.89 - ETA: 32:41 - loss: 0.4827 - acc: 0.89 - ETA: 32:26 - loss: 0.4823 - acc: 0.89 - ETA: 32:10 - loss: 0.4821 - acc: 0.89 - ETA: 31:54 - loss: 0.4818 - acc: 0.89 - ETA: 31:39 - loss: 0.4817 - acc: 0.89 - ETA: 31:23 - loss: 0.4815 - acc: 0.89 - ETA: 31:07 - loss: 0.4814 - acc: 0.89 - ETA: 30:52 - loss: 0.4811 - acc: 0.89 - ETA: 30:36 - loss: 0.4809 - acc: 0.89 - ETA: 30:20 - loss: 0.4808 - acc: 0.89 - ETA: 30:05 - loss: 0.4805 - acc: 0.89 - ETA: 29:49 - loss: 0.4802 - acc: 0.89 - ETA: 29:33 - loss: 0.4801 - acc: 0.89 - ETA: 29:18 - loss: 0.4798 - acc: 0.89 - ETA: 29:02 - loss: 0.4795 - acc: 0.89 - ETA: 28:46 - loss: 0.4793 - acc: 0.89 - ETA: 28:31 - loss: 0.4790 - acc: 0.89 - ETA: 28:15 - loss: 0.4787 - acc: 0.89 - ETA: 27:59 - loss: 0.4784 - acc: 0.89 - ETA: 27:44 - loss: 0.4781 - acc: 0.89 - ETA: 27:28 - loss: 0.4779 - acc: 0.89 - ETA: 27:12 - loss: 0.4776 - acc: 0.89 - ETA: 26:56 - loss: 0.4774 - acc: 0.89 - ETA: 26:41 - loss: 0.4772 - acc: 0.89 - ETA: 26:25 - loss: 0.4769 - acc: 0.89 - ETA: 26:09 - loss: 0.4767 - acc: 0.89 - ETA: 25:54 - loss: 0.4765 - acc: 0.89 - ETA: 25:38 - loss: 0.4763 - acc: 0.89 - ETA: 25:22 - loss: 0.4761 - acc: 0.89 - ETA: 25:07 - loss: 0.4759 - acc: 0.89 - ETA: 24:51 - loss: 0.4756 - acc: 0.89 - ETA: 24:35 - loss: 0.4754 - acc: 0.89 - ETA: 24:20 - loss: 0.4751 - acc: 0.89 - ETA: 24:04 - loss: 0.4749 - acc: 0.89 - ETA: 23:48 - loss: 0.4747 - acc: 0.89 - ETA: 23:33 - loss: 0.4746 - acc: 0.89 - ETA: 23:17 - loss: 0.4743 - acc: 0.89 - ETA: 23:01 - loss: 0.4741 - acc: 0.89 - ETA: 22:46 - loss: 0.4738 - acc: 0.89 - ETA: 22:30 - loss: 0.4735 - acc: 0.89 - ETA: 22:14 - loss: 0.4734 - acc: 0.89 - ETA: 21:59 - loss: 0.4732 - acc: 0.89 - ETA: 21:43 - loss: 0.4730 - acc: 0.89 - ETA: 21:27 - loss: 0.4728 - acc: 0.89 - ETA: 21:12 - loss: 0.4725 - acc: 0.89 - ETA: 20:56 - loss: 0.4724 - acc: 0.89 - ETA: 20:40 - loss: 0.4721 - acc: 0.89 - ETA: 20:25 - loss: 0.4719 - acc: 0.89 - ETA: 20:09 - loss: 0.4717 - acc: 0.89 - ETA: 19:53 - loss: 0.4715 - acc: 0.89 - ETA: 19:38 - loss: 0.4713 - acc: 0.89 - ETA: 19:22 - loss: 0.4711 - acc: 0.89 - ETA: 19:06 - loss: 0.4710 - acc: 0.89 - ETA: 18:51 - loss: 0.4707 - acc: 0.89 - ETA: 18:35 - loss: 0.4704 - acc: 0.89 - ETA: 18:19 - loss: 0.4703 - acc: 0.89 - ETA: 18:04 - loss: 0.4700 - acc: 0.89 - ETA: 17:48 - loss: 0.4697 - acc: 0.89 - ETA: 17:32 - loss: 0.4694 - acc: 0.89 - ETA: 17:17 - loss: 0.4691 - acc: 0.89 - ETA: 17:01 - loss: 0.4690 - acc: 0.89 - ETA: 16:45 - loss: 0.4688 - acc: 0.89 - ETA: 16:30 - loss: 0.4687 - acc: 0.89 - ETA: 16:14 - loss: 0.4685 - acc: 0.89 - ETA: 15:58 - loss: 0.4682 - acc: 0.89 - ETA: 15:43 - loss: 0.4680 - acc: 0.89 - ETA: 15:27 - loss: 0.4677 - acc: 0.89 - ETA: 15:11 - loss: 0.4676 - acc: 0.89 - ETA: 14:56 - loss: 0.4674 - acc: 0.89 - ETA: 14:40 - loss: 0.4672 - acc: 0.89 - ETA: 14:24 - loss: 0.4670 - acc: 0.89 - ETA: 14:09 - loss: 0.4668 - acc: 0.89 - ETA: 13:53 - loss: 0.4665 - acc: 0.89 - ETA: 13:37 - loss: 0.4663 - acc: 0.89 - ETA: 13:22 - loss: 0.4661 - acc: 0.89 - ETA: 13:06 - loss: 0.4659 - acc: 0.89 - ETA: 12:50 - loss: 0.4656 - acc: 0.89 - ETA: 12:35 - loss: 0.4655 - acc: 0.89 - ETA: 12:19 - loss: 0.4653 - acc: 0.89 - ETA: 12:03 - loss: 0.4651 - acc: 0.89 - ETA: 11:48 - loss: 0.4649 - acc: 0.89 - ETA: 11:32 - loss: 0.4646 - acc: 0.89 - ETA: 11:16 - loss: 0.4643 - acc: 0.89 - ETA: 11:01 - loss: 0.4641 - acc: 0.89 - ETA: 10:45 - loss: 0.4639 - acc: 0.89 - ETA: 10:29 - loss: 0.4638 - acc: 0.89 - ETA: 10:14 - loss: 0.4636 - acc: 0.89 - ETA: 9:58 - loss: 0.4633 - acc: 0.8966 - ETA: 9:42 - loss: 0.4631 - acc: 0.896 - ETA: 9:27 - loss: 0.4628 - acc: 0.896 - ETA: 9:11 - loss: 0.4626 - acc: 0.896 - ETA: 8:55 - loss: 0.4623 - acc: 0.896 - ETA: 8:40 - loss: 0.4620 - acc: 0.896 - ETA: 8:24 - loss: 0.4618 - acc: 0.896 - ETA: 8:08 - loss: 0.4615 - acc: 0.896 - ETA: 7:53 - loss: 0.4613 - acc: 0.896 - ETA: 7:37 - loss: 0.4612 - acc: 0.896 - ETA: 7:21 - loss: 0.4610 - acc: 0.896 - ETA: 7:06 - loss: 0.4608 - acc: 0.897 - ETA: 6:50 - loss: 0.4607 - acc: 0.897 - ETA: 6:34 - loss: 0.4605 - acc: 0.897 - ETA: 6:19 - loss: 0.4604 - acc: 0.897 - ETA: 6:03 - loss: 0.4601 - acc: 0.897 - ETA: 5:47 - loss: 0.4599 - acc: 0.897 - ETA: 5:32 - loss: 0.4597 - acc: 0.897 - ETA: 5:16 - loss: 0.4594 - acc: 0.897 - ETA: 5:00 - loss: 0.4591 - acc: 0.897 - ETA: 4:45 - loss: 0.4589 - acc: 0.897 - ETA: 4:29 - loss: 0.4586 - acc: 0.897 - ETA: 4:13 - loss: 0.4585 - acc: 0.897 - ETA: 3:58 - loss: 0.4583 - acc: 0.897 - ETA: 3:42 - loss: 0.4582 - acc: 0.897 - ETA: 3:26 - loss: 0.4580 - acc: 0.897 - ETA: 3:11 - loss: 0.4578 - acc: 0.897 - ETA: 2:55 - loss: 0.4576 - acc: 0.897 - ETA: 2:39 - loss: 0.4574 - acc: 0.897 - ETA: 2:24 - loss: 0.4573 - acc: 0.897 - ETA: 2:08 - loss: 0.4571 - acc: 0.897 - ETA: 1:52 - loss: 0.4569 - acc: 0.897 - ETA: 1:37 - loss: 0.4567 - acc: 0.897 - ETA: 1:21 - loss: 0.4565 - acc: 0.897 - ETA: 1:05 - loss: 0.4563 - acc: 0.897 - ETA: 49s - loss: 0.4561 - acc: 0.897 - ETA: 34s - loss: 0.4558 - acc: 0.89 - ETA: 18s - loss: 0.4557 - acc: 0.89 - ETA: 2s - loss: 0.4556 - acc: 0.8979 "
     ]
    }
   ],
   "source": [
    "model.fit(X_train, y_train, batch_size=16, epochs=10, validation_data=(X_valid, y_valid))\n",
    "model.save(\"models/vgg16-mymodel.h5\")"
   ]
  },
  {
   "cell_type": "code",
   "execution_count": null,
   "metadata": {
    "collapsed": true
   },
   "outputs": [],
   "source": []
  }
 ],
 "metadata": {
  "kernelspec": {
   "display_name": "Python 3",
   "language": "python",
   "name": "python3"
  },
  "language_info": {
   "codemirror_mode": {
    "name": "ipython",
    "version": 3
   },
   "file_extension": ".py",
   "mimetype": "text/x-python",
   "name": "python",
   "nbconvert_exporter": "python",
   "pygments_lexer": "ipython3",
   "version": "3.6.2"
  }
 },
 "nbformat": 4,
 "nbformat_minor": 1
}
