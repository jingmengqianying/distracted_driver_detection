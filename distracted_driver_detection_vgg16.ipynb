{
 "cells": [
  {
   "cell_type": "code",
   "execution_count": 1,
   "metadata": {
    "collapsed": true
   },
   "outputs": [],
   "source": [
    "from urllib.request import urlretrieve \n",
    "from os.path import isfile, isdir \n",
    "from tqdm import tqdm \n",
    "import zipfile \n",
    "import csv\n",
    "import os\n",
    "import math  \n",
    "import numpy as np  \n",
    "import matplotlib.pyplot as plt     \n",
    "from PIL import Image\n",
    "from sklearn.model_selection import KFold\n",
    "import pandas as pd\n",
    "import shutil"
   ]
  },
  {
   "cell_type": "code",
   "execution_count": 2,
   "metadata": {},
   "outputs": [
    {
     "name": "stdout",
     "output_type": "stream",
     "text": [
      "E:\\pythonProject\\machineLearningProgress\\distracted_driver_detection\n",
      "all file is exits\n"
     ]
    }
   ],
   "source": [
    "cwd = os.getcwd()\n",
    "print (cwd)\n",
    "\n",
    "#图片数据路径\n",
    "DRIVER_IMGS_PATH = \"./dataset/\"\n",
    "#图片CSV列表的数据 \n",
    "DRIVER_IMGS_LIST_CVS_DATE_FILE = \"./dataset/driver_imgs_list.csv\"\n",
    "#图片的数据目录 \n",
    "DRIVER_IMGES_DATASET_FOLDER_PATH = './dataset/imgs/'\n",
    "#图片的ZIP位置 \n",
    "DRIVER_IMGES_DATASET_LOCATION = './dataset/imgs.zip'\n",
    "#图片训练集目录\n",
    "TRAIN_DIR = './dataset/imgs/train/'\n",
    "#图片测试集目录\n",
    "TEST_DIR = './dataset/imgs/test/'\n",
    "#训练好的模型位置\n",
    "SAVE_MODEL_PATH = './saved_model/'\n",
    "\n",
    "csv_file = csv.reader(open(DRIVER_IMGS_LIST_CVS_DATE_FILE,'r'))\n",
    "\n",
    "if isfile(DRIVER_IMGES_DATASET_LOCATION): \n",
    "    zip_path = DRIVER_IMGES_DATASET_LOCATION \n",
    "else: \n",
    "    zip_path = 'imgs.zip'\n",
    "\n",
    "        \n",
    "if not isfile(zip_path): \n",
    "    with DLProgress(unit='B', unit_scale=True, miniters=1, desc='Dataset') as pbar:\n",
    "        urlretrieve( 'https://www.kaggle.com/c/state-farm-distracted-driver-detection/data/imgs.zip', \n",
    "                    zip_path, \n",
    "                    pbar.hook)\n",
    "        \n",
    "#查看数据集imgs.zip是否已存在,解压到对应目录 \n",
    "if not isdir(DRIVER_IMGES_DATASET_FOLDER_PATH): \n",
    "    with zipfile.ZipFile(zip_path) as zin: \n",
    "        zin.extractall(DRIVER_IMGES_DATASET_FOLDER_PATH)\n",
    "        zin.close()\n",
    "        \n",
    "print(\"all file is exits\")"
   ]
  },
  {
   "cell_type": "code",
   "execution_count": null,
   "metadata": {},
   "outputs": [
    {
     "name": "stdout",
     "output_type": "stream",
     "text": [
      "-------- loading train data\n"
     ]
    }
   ],
   "source": [
    "import glob\n",
    "import cv2\n",
    "model_image_size = 224\n",
    "\n",
    "print(\"-------- loading train data\")\n",
    "X_train = list()\n",
    "y_train = list()\n",
    "train_subjects = ['p002','p012','p014','p015','p016','p021','p022','p024','p026','p035','p039','p041','p042','p045','p047','p049','p050',\n",
    "                  'p051','p052','p056','p061','p064','p066','p072']\n",
    "valid_subjects = ['p075','p081']\n",
    "df = pd.read_csv(DRIVER_IMGS_LIST_CVS_DATE_FILE)\n",
    "\n",
    "for train_subject in train_subjects:\n",
    "    df_train = df[(df[\"subject\"]==train_subject)]\n",
    "    for index, row in df_train.iterrows():\n",
    "        subpath = row[\"classname\"] + \"/\" + row[\"img\"]\n",
    "        i = int( row[\"classname\"].replace('c',''))\n",
    "        image_file = os.path.join(TRAIN_DIR,subpath)\n",
    "        image = cv2.imread(image_file)\n",
    "        X_train.append(cv2.resize(image, (model_image_size, model_image_size)))\n",
    "        label = np.zeros(10, dtype=np.uint8)\n",
    "        label[i]=1\n",
    "        y_train.append(label)\n",
    "X_train = np.array(X_train)\n",
    "y_train = np.array(y_train)  \n",
    "\n",
    "for valid_subject in valid_subjects:\n",
    "    df_valid = df[(df[\"subject\"]==valid_subject)]\n",
    "    for index, row in df_valid.iterrows():\n",
    "        subpath = row[\"classname\"] + \"/\" + row[\"img\"]\n",
    "        i = int( row[\"classname\"].replace('c',''))\n",
    "        image_file = os.path.join(TRAIN_DIR,subpath)\n",
    "        image = cv2.imread(image_file)\n",
    "        X_valid.append(cv2.resize(image, (model_image_size, model_image_size)))\n",
    "        label = np.zeros(10, dtype=np.uint8)\n",
    "        label[i]=1\n",
    "        y_valid.append(label)\n",
    "        \n",
    "X_valid = np.array(X_valid)\n",
    "y_valid = np.array(y_valid)   \n",
    "\n",
    "print(X_train.shape)\n",
    "print(y_train.shape)\n",
    "print(X_valid.shape)\n",
    "print(y_valid.shape)"
   ]
  },
  {
   "cell_type": "code",
   "execution_count": null,
   "metadata": {
    "collapsed": true
   },
   "outputs": [],
   "source": []
  }
 ],
 "metadata": {
  "kernelspec": {
   "display_name": "Python 3",
   "language": "python",
   "name": "python3"
  },
  "language_info": {
   "codemirror_mode": {
    "name": "ipython",
    "version": 3
   },
   "file_extension": ".py",
   "mimetype": "text/x-python",
   "name": "python",
   "nbconvert_exporter": "python",
   "pygments_lexer": "ipython3",
   "version": "3.6.2"
  }
 },
 "nbformat": 4,
 "nbformat_minor": 2
}
